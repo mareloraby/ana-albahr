{
  "nbformat": 4,
  "nbformat_minor": 0,
  "metadata": {
    "colab": {
      "name": "MarkovChains.ipynb",
      "provenance": [],
      "collapsed_sections": [],
      "include_colab_link": true
    },
    "kernelspec": {
      "name": "python3",
      "display_name": "Python 3"
    },
    "language_info": {
      "name": "python"
    }
  },
  "cells": [
    {
      "cell_type": "markdown",
      "metadata": {
        "id": "view-in-github",
        "colab_type": "text"
      },
      "source": [
        "<a href=\"https://colab.research.google.com/github/mareloraby/ana-albahr/blob/main/MarkovChains-generate-based-on-given-Qafiya.ipynb\" target=\"_parent\"><img src=\"https://colab.research.google.com/assets/colab-badge.svg\" alt=\"Open In Colab\"/></a>"
      ]
    },
    {
      "cell_type": "markdown",
      "source": [
        "# Prepare Environment"
      ],
      "metadata": {
        "id": "8Eg0lH2HWw5k"
      }
    },
    {
      "cell_type": "code",
      "execution_count": null,
      "metadata": {
        "id": "GxfwqlQF034W"
      },
      "outputs": [],
      "source": [
        "!pip install -q markovify\n",
        "!pip install -q pyarabic"
      ]
    },
    {
      "cell_type": "code",
      "source": [
        "!git clone https://github.com/mareloraby/ana-albahr.git"
      ],
      "metadata": {
        "colab": {
          "base_uri": "https://localhost:8080/"
        },
        "id": "lWXus4whCjkF",
        "outputId": "e2107b56-b3ea-4040-996f-a45a52f6bae1"
      },
      "execution_count": null,
      "outputs": [
        {
          "output_type": "stream",
          "name": "stdout",
          "text": [
            "fatal: destination path 'ana-albahr' already exists and is not an empty directory.\n"
          ]
        }
      ]
    },
    {
      "cell_type": "code",
      "source": [
        "import pandas as pd\n",
        "from google.colab import drive\n",
        "drive.mount('/content/drive')\n",
        "\n",
        "# poemsdf = pd.read_csv(\"/content/drive/MyDrive/NLP/PoetryGeneration/Arabic_poetry_dataset.csv\",  encoding='utf-8') \n",
        "# cats = ['العصر العباسي', 'العصر المملوكي', 'العصر الايوبي', 'العصر العثماني', 'العصر الاموي', 'العصر الأندلسي', 'عصر المخضرمون', 'العصر الجاهلي', 'العصر الإسلامي']\n",
        "# poemsdf2 = poemsdf[poemsdf['category'].isin(cats)].reset_index()"
      ],
      "metadata": {
        "colab": {
          "base_uri": "https://localhost:8080/"
        },
        "id": "q9iRX0NO9kWv",
        "outputId": "3dae8781-1fe5-4105-9793-68476526b672"
      },
      "execution_count": null,
      "outputs": [
        {
          "output_type": "stream",
          "name": "stdout",
          "text": [
            "Drive already mounted at /content/drive; to attempt to forcibly remount, call drive.mount(\"/content/drive\", force_remount=True).\n"
          ]
        }
      ]
    },
    {
      "cell_type": "code",
      "source": [
        "PoemsFile = \"/content/drive/MyDrive/NLP/PoetryGeneration/datasetarabic.txt\" #poems text file path\n",
        "all_poems = open(PoemsFile, 'rb').read().decode(encoding='utf-8') "
      ],
      "metadata": {
        "id": "pb_5BvvtcwcH"
      },
      "execution_count": null,
      "outputs": []
    },
    {
      "cell_type": "code",
      "source": [
        "import pickle\n",
        "\n",
        "#import a list of arabic words - resource: unknown\n",
        "\n",
        "with open('/content/drive/MyDrive/NLP/PoetryGeneration/vocabs.pkl', 'rb') as pickle_load:\n",
        "    voc_list = pickle.load(pickle_load)"
      ],
      "metadata": {
        "id": "5S4EMwX0uIdt"
      },
      "execution_count": null,
      "outputs": []
    },
    {
      "cell_type": "code",
      "source": [
        "import tensorflow\n",
        "from tensorflow.keras.preprocessing.text import Tokenizer\n",
        "\n",
        "#create a list of all words in the dataset \n",
        "\n",
        "tokenizer = Tokenizer()\n",
        "corpus = all_poems.split(\"\\n\")\n",
        "tokenizer.fit_on_texts(corpus)\n",
        "total_words = len(tokenizer.word_index) + 1\n",
        "print('Total number of words in corpus:',total_words)\n",
        "\n",
        "corpus_vocab = []\n",
        "for key,val in enumerate(tokenizer.word_index):\n",
        "  if(len(val) > 2):\n",
        "    corpus_vocab.append(val)  \n",
        "\n",
        "# append the list of all words in the dataset with the list of arabic words\n",
        "big_vocab_list = (corpus_vocab+voc_list)\n",
        "print('Total number of words in the current list: ',len(big_vocab_list))"
      ],
      "metadata": {
        "colab": {
          "base_uri": "https://localhost:8080/"
        },
        "id": "su7s-l0fdRwQ",
        "outputId": "cf7690fb-89cd-4727-b407-776d15b6d288"
      },
      "execution_count": null,
      "outputs": [
        {
          "output_type": "stream",
          "name": "stdout",
          "text": [
            "Total number of words in corpus: 1054587\n",
            "Total number of words in the current list:  1990649\n"
          ]
        }
      ]
    },
    {
      "cell_type": "code",
      "source": [
        "#make sure you only keep unique words\n",
        "big_set = set()\n",
        "for x in big_vocab_list:\n",
        "    big_set.add(x)"
      ],
      "metadata": {
        "id": "U4jWv0squhJJ"
      },
      "execution_count": null,
      "outputs": []
    },
    {
      "cell_type": "code",
      "source": [
        "import pyarabic.araby as araby\n",
        "\n",
        "#a function to remove Arabic diacritics (harakaat)\n",
        "\n",
        "def remove_harakas(word):\n",
        "  return araby.strip_diacritics(word)"
      ],
      "metadata": {
        "id": "ASbiZ3-UpT_r"
      },
      "execution_count": null,
      "outputs": []
    },
    {
      "cell_type": "code",
      "source": [
        "# testing the remove_harakas function\n",
        "\n",
        "remove_harakas('حَيِّ الحُمولَ بِجانِبِ العَزلِ')"
      ],
      "metadata": {
        "colab": {
          "base_uri": "https://localhost:8080/",
          "height": 36
        },
        "id": "TKMpYpbcrAU5",
        "outputId": "7ec30257-0b17-43fc-e86a-236dcafa1c2b"
      },
      "execution_count": null,
      "outputs": [
        {
          "output_type": "execute_result",
          "data": {
            "text/plain": [
              "'حي الحمول بجانب العزل'"
            ],
            "application/vnd.google.colaboratory.intrinsic+json": {
              "type": "string"
            }
          },
          "metadata": {},
          "execution_count": 19
        }
      ]
    },
    {
      "cell_type": "code",
      "source": [
        "# get all words that rhymes with the last 2 letters of the input\n",
        "max_word_length = 9\n",
        "def rhymes_with(word):\n",
        "    if word not in ['الله', 'والله', 'بالله', 'لله', 'تالله']:\n",
        "        word = word.replace('ّ', '')\n",
        "    ending = word[-2:]\n",
        "    # print(ending)\n",
        "    rhymes = []\n",
        "\n",
        "    for w in big_set: \n",
        "        if len(w) < max_word_length:\n",
        "\n",
        "          if w.endswith(ending):\n",
        "            rhymes.append(w)\n",
        "\n",
        "          if(len(w) > 1 and len(ending) > 1 and w[-2] == ending[-2]):\n",
        "\n",
        "            if ending.endswith('و') and w.endswith('ُ'):\n",
        "              rhymes.append(w)\n",
        "\n",
        "            if ending.endswith('ي') and (w.endswith('ِ')):\n",
        "              rhymes.append(w)\n",
        "\n",
        "            if ((ending.endswith('ا') or ending.endswith('ى')) and (w.endswith('َ') or w.endswith('ا') or w.endswith('ى') )):\n",
        "              rhymes.append(w)\n",
        "  \n",
        "\n",
        "    return rhymes"
      ],
      "metadata": {
        "id": "2uwhyYPJbGfU"
      },
      "execution_count": null,
      "outputs": []
    },
    {
      "cell_type": "code",
      "source": [
        "import markovify\n",
        "\n",
        "# load Markovify, a simple, extensible Markov chain generator. src: github.com/jsvine/markovify\n",
        "\n",
        "def markov(text_file):\n",
        "    with open(text_file, 'r', encoding='utf-8') as f:\n",
        "        text = f.read()\n",
        "    text_model = markovify.NewlineText(text)\n",
        "    return text_model"
      ],
      "metadata": {
        "id": "e7n8XZTb8gJN"
      },
      "execution_count": null,
      "outputs": []
    },
    {
      "cell_type": "code",
      "source": [
        "text_model = markov(PoemsFile)"
      ],
      "metadata": {
        "id": "nIi4z1GDw7Mr"
      },
      "execution_count": null,
      "outputs": []
    },
    {
      "cell_type": "code",
      "source": [
        "from tqdm import tqdm\n",
        "\n",
        "#generate poem lines based on a single rhyme.\n",
        "def generate_poem_single_rhyme( rhyme, iterations=3000, use_tqdm=False):\n",
        "    \n",
        "    rhymes_list = rhymes_with(rhyme) # rhymes_with_last_n_chars(rhyme, n_of_rhyme_letters)\n",
        "    bayts = set()\n",
        "    used_rhymes = set()\n",
        "\n",
        "    poem = \"\"\n",
        "    \n",
        "    if use_tqdm == True: \n",
        "        if hasattr(tqdm, '_instances'): tqdm._instances.clear()\n",
        "        it_range = tqdm(range(iterations))\n",
        "    else:\n",
        "        it_range = range(iterations)\n",
        "\n",
        "\n",
        "    for i in it_range:\n",
        "        bayt = text_model.make_short_sentence(280, tries=100) # generate a line using markov chains\n",
        "        last_word = bayt.split()[-1] # get last word of the generated line\n",
        "\n",
        "        if (last_word in rhymes_list) and (last_word not in used_rhymes) and (bayt not in bayts):\n",
        "            \n",
        "            add_line = True\n",
        "            \n",
        "            temp = bayt.split(' ') \n",
        "\n",
        "            for word in temp:\n",
        "              if len(word) == 1 and word!='و': # if the word has a length 1, check if it's not a و\n",
        "                add_line = False\n",
        "              if len(word) == 2 and len(remove_harakas(word)) == 1: # check length after removing harakas\n",
        "                add_line = False\n",
        "              if remove_harakas(word) == 'الله': #don't use lines that contains الله\n",
        "                add_line = False\n",
        "              if word == temp[-1] and word == rhyme:\n",
        "                add_line = False\n",
        "            \n",
        "            if add_line:\n",
        "              bayts.add(bayt)\n",
        "              used_rhymes.add(last_word)\n",
        "              poem += \"{}\\n\".format(bayt)\n",
        "              # if not use_tqdm:\n",
        "              print(bayt)\n",
        "\n",
        "    return poem"
      ],
      "metadata": {
        "id": "k79UNHyK9TWO"
      },
      "execution_count": null,
      "outputs": []
    },
    {
      "cell_type": "markdown",
      "source": [
        "# Test"
      ],
      "metadata": {
        "id": "2hD57a9KWtah"
      }
    },
    {
      "cell_type": "code",
      "source": [
        "rhyme = input('الرجاء إدخال القافية. مثال: ما \\n(Enter) ثم انقر على\\n')\n",
        "print('القافية المختارة : ', rhyme)\n",
        "\n",
        "if rhyme == '':\n",
        "  print('الرجاء إدخال القافية. مثال: ما \\n')\n",
        "  print('ثم انقر على (Enter)')\n",
        "\n",
        "else:\n",
        "  x = generate_poem_single_rhyme(\n",
        "                              rhyme,\n",
        "                              iterations=2000, \n",
        "                              use_tqdm=True\n",
        "                              )\n",
        "  "
      ],
      "metadata": {
        "colab": {
          "base_uri": "https://localhost:8080/"
        },
        "id": "1j1oyt9x-E1A",
        "outputId": "88ca0246-22e0-41ff-8718-9098b9f4b8f2"
      },
      "execution_count": null,
      "outputs": [
        {
          "output_type": "stream",
          "name": "stdout",
          "text": [
            "الرجاء إدخال القافية. مثال: ما \n",
            "(Enter) ثم انقر على\n",
            "مي\n",
            "القافية المختارة :  مي\n"
          ]
        },
        {
          "output_type": "stream",
          "name": "stderr",
          "text": [
            "  6%|▌         | 112/2000 [00:05<01:31, 20.53it/s]"
          ]
        },
        {
          "output_type": "stream",
          "name": "stdout",
          "text": [
            "ساقٌ عَلى ساقٍ بِغَيرِ مَليمِ\n",
            "بِهِ عِندَ الإِمامِ كَلامُهُم وَكَلامي\n"
          ]
        },
        {
          "output_type": "stream",
          "name": "stderr",
          "text": [
            " 15%|█▌        | 307/2000 [00:16<01:17, 21.85it/s]"
          ]
        },
        {
          "output_type": "stream",
          "name": "stdout",
          "text": [
            "وجد مضى عنها ولم يخِمِ\n"
          ]
        },
        {
          "output_type": "stream",
          "name": "stderr",
          "text": [
            " 16%|█▌        | 324/2000 [00:17<01:25, 19.65it/s]"
          ]
        },
        {
          "output_type": "stream",
          "name": "stdout",
          "text": [
            "وَمَكرُمَةٍ عِندَ السَماءِ جُسامِ\n"
          ]
        },
        {
          "output_type": "stream",
          "name": "stderr",
          "text": [
            " 23%|██▎       | 451/2000 [00:25<01:14, 20.79it/s]"
          ]
        },
        {
          "output_type": "stream",
          "name": "stdout",
          "text": [
            "وامام الانشاء في كل يومٍ يا غلامي\n"
          ]
        },
        {
          "output_type": "stream",
          "name": "stderr",
          "text": [
            " 30%|██▉       | 592/2000 [00:32<01:20, 17.59it/s]"
          ]
        },
        {
          "output_type": "stream",
          "name": "stdout",
          "text": [
            "كَأَنَّ دُفّاً عَلى عَلياءَ خالِدَةِ الأَرومِ\n"
          ]
        },
        {
          "output_type": "stream",
          "name": "stderr",
          "text": [
            " 30%|██▉       | 599/2000 [00:32<01:20, 17.36it/s]"
          ]
        },
        {
          "output_type": "stream",
          "name": "stdout",
          "text": [
            "دو مِن خِلالِ غِمامِ\n"
          ]
        },
        {
          "output_type": "stream",
          "name": "stderr",
          "text": [
            " 31%|███       | 617/2000 [00:33<01:04, 21.49it/s]"
          ]
        },
        {
          "output_type": "stream",
          "name": "stdout",
          "text": [
            "وَقالَ دَليلُ القَومِ قَد ذَهَبَ السَهمُ بِقَلبِ الرَمي\n",
            "وحطَّم مَّران الوغى في الشكائمِ\n"
          ]
        },
        {
          "output_type": "stream",
          "name": "stderr",
          "text": [
            " 35%|███▍      | 691/2000 [00:37<01:11, 18.33it/s]"
          ]
        },
        {
          "output_type": "stream",
          "name": "stdout",
          "text": [
            "رويداً على مضنًى من البينِ تَرْمي الشملَ منكم بما ترمي\n"
          ]
        },
        {
          "output_type": "stream",
          "name": "stderr",
          "text": [
            " 40%|███▉      | 795/2000 [00:42<01:06, 18.00it/s]"
          ]
        },
        {
          "output_type": "stream",
          "name": "stdout",
          "text": [
            "وَرَمَيتَ هَضبَتَنا بِأَفوَقَ ناصِلٍ وَبِشَرِّ ذامِ\n"
          ]
        },
        {
          "output_type": "stream",
          "name": "stderr",
          "text": [
            " 52%|█████▏    | 1045/2000 [00:57<00:53, 18.01it/s]"
          ]
        },
        {
          "output_type": "stream",
          "name": "stdout",
          "text": [
            "حكمت على الأعداء من كل مَوشيِّ الرقوم منمنَمِ\n"
          ]
        },
        {
          "output_type": "stream",
          "name": "stderr",
          "text": [
            " 54%|█████▍    | 1081/2000 [00:58<00:43, 20.95it/s]"
          ]
        },
        {
          "output_type": "stream",
          "name": "stdout",
          "text": [
            "يا لها في كلّ وقت هامي\n",
            "إِلى الصُبحِ لَم يَنجُ مِن رامِحٍ وَنابِلٍ وَرامِ\n"
          ]
        },
        {
          "output_type": "stream",
          "name": "stderr",
          "text": [
            " 55%|█████▌    | 1108/2000 [01:00<00:49, 17.97it/s]"
          ]
        },
        {
          "output_type": "stream",
          "name": "stdout",
          "text": [
            "لَبَابُ سمعيَ عن عذل بل يا موردَ الأيتامِ\n"
          ]
        },
        {
          "output_type": "stream",
          "name": "stderr",
          "text": [
            " 56%|█████▌    | 1120/2000 [01:01<00:43, 20.02it/s]"
          ]
        },
        {
          "output_type": "stream",
          "name": "stdout",
          "text": [
            "لَهُ مِن قَبيلِ السِهامِ\n",
            "وَحَلَّت مَكاناً لَم يَكُن بِذَميمِ\n"
          ]
        },
        {
          "output_type": "stream",
          "name": "stderr",
          "text": [
            " 66%|██████▋   | 1328/2000 [01:12<00:34, 19.65it/s]"
          ]
        },
        {
          "output_type": "stream",
          "name": "stdout",
          "text": [
            "كَم صُغت فيكَ مِن بِنتِ الكُرومِ\n"
          ]
        },
        {
          "output_type": "stream",
          "name": "stderr",
          "text": [
            " 68%|██████▊   | 1370/2000 [01:14<00:36, 17.29it/s]"
          ]
        },
        {
          "output_type": "stream",
          "name": "stdout",
          "text": [
            "كُمونَ الموتِ في حَدِّ مَصقولِ الغِرارَيْنِ مِخْذَمِ\n"
          ]
        },
        {
          "output_type": "stream",
          "name": "stderr",
          "text": [
            " 73%|███████▎  | 1467/2000 [01:19<00:27, 19.37it/s]"
          ]
        },
        {
          "output_type": "stream",
          "name": "stdout",
          "text": [
            "مصعَّدة من حيث لا تهتدي فيها الليوث لمجْثَمِ\n"
          ]
        },
        {
          "output_type": "stream",
          "name": "stderr",
          "text": [
            " 74%|███████▎  | 1473/2000 [01:20<00:24, 21.09it/s]"
          ]
        },
        {
          "output_type": "stream",
          "name": "stdout",
          "text": [
            "صُنّا قَوائِمَها عَنهُم فَما مِن نَدىً وَدَمِ\n"
          ]
        },
        {
          "output_type": "stream",
          "name": "stderr",
          "text": [
            " 75%|███████▌  | 1500/2000 [01:21<00:30, 16.38it/s]"
          ]
        },
        {
          "output_type": "stream",
          "name": "stdout",
          "text": [
            "فَكَم شاهدتُ قَبلك من نعيمٍ في النعامي\n"
          ]
        },
        {
          "output_type": "stream",
          "name": "stderr",
          "text": [
            " 76%|███████▌  | 1524/2000 [01:22<00:19, 23.88it/s]"
          ]
        },
        {
          "output_type": "stream",
          "name": "stdout",
          "text": [
            "ولا برحتْ في القفرِ غيرَ البهائمِ\n",
            "قُصورُ الوَرى عَن وَصلِها كَأَن لَمِ\n"
          ]
        },
        {
          "output_type": "stream",
          "name": "stderr",
          "text": [
            " 80%|███████▉  | 1599/2000 [01:26<00:19, 20.81it/s]"
          ]
        },
        {
          "output_type": "stream",
          "name": "stdout",
          "text": [
            "رَأى العُذّالُ بَذلَ المالِ مِن خَيلٍ وَمِن نَعَمِ\n"
          ]
        },
        {
          "output_type": "stream",
          "name": "stderr",
          "text": [
            " 82%|████████▏ | 1647/2000 [01:29<00:14, 23.97it/s]"
          ]
        },
        {
          "output_type": "stream",
          "name": "stdout",
          "text": [
            "على الهَوْلينِ من ليثٍ هصورٍ فِي خِطامِ\n"
          ]
        },
        {
          "output_type": "stream",
          "name": "stderr",
          "text": [
            " 83%|████████▎ | 1654/2000 [01:29<00:13, 26.28it/s]"
          ]
        },
        {
          "output_type": "stream",
          "name": "stdout",
          "text": [
            "وَطَوراً باكِياً مِن غَيرِ نارٍ وَلا فَحمِ\n",
            "على ناظري في الليلِ البَهيمِ\n"
          ]
        },
        {
          "output_type": "stream",
          "name": "stderr",
          "text": [
            " 83%|████████▎ | 1662/2000 [01:29<00:15, 21.65it/s]"
          ]
        },
        {
          "output_type": "stream",
          "name": "stdout",
          "text": [
            "شَفَت مِن دَهرِنا الحُطَمِ\n"
          ]
        },
        {
          "output_type": "stream",
          "name": "stderr",
          "text": [
            " 93%|█████████▎| 1867/2000 [01:40<00:06, 20.44it/s]"
          ]
        },
        {
          "output_type": "stream",
          "name": "stdout",
          "text": [
            "فالجسم منه في حَرَمِ\n"
          ]
        },
        {
          "output_type": "stream",
          "name": "stderr",
          "text": [
            "100%|██████████| 2000/2000 [01:47<00:00, 18.60it/s]\n"
          ]
        }
      ]
    },
    {
      "cell_type": "code",
      "source": [
        "print(\"The generated poem:\\n\",x)  "
      ],
      "metadata": {
        "colab": {
          "base_uri": "https://localhost:8080/"
        },
        "id": "7VGX0sVGx_4m",
        "outputId": "ed659f41-e0f0-4f72-b190-a7dfb94118a9"
      },
      "execution_count": null,
      "outputs": [
        {
          "output_type": "stream",
          "name": "stdout",
          "text": [
            "The generated poem:\n",
            " ساقٌ عَلى ساقٍ بِغَيرِ مَليمِ\n",
            "بِهِ عِندَ الإِمامِ كَلامُهُم وَكَلامي\n",
            "وجد مضى عنها ولم يخِمِ\n",
            "وَمَكرُمَةٍ عِندَ السَماءِ جُسامِ\n",
            "وامام الانشاء في كل يومٍ يا غلامي\n",
            "كَأَنَّ دُفّاً عَلى عَلياءَ خالِدَةِ الأَرومِ\n",
            "دو مِن خِلالِ غِمامِ\n",
            "وَقالَ دَليلُ القَومِ قَد ذَهَبَ السَهمُ بِقَلبِ الرَمي\n",
            "وحطَّم مَّران الوغى في الشكائمِ\n",
            "رويداً على مضنًى من البينِ تَرْمي الشملَ منكم بما ترمي\n",
            "وَرَمَيتَ هَضبَتَنا بِأَفوَقَ ناصِلٍ وَبِشَرِّ ذامِ\n",
            "حكمت على الأعداء من كل مَوشيِّ الرقوم منمنَمِ\n",
            "يا لها في كلّ وقت هامي\n",
            "إِلى الصُبحِ لَم يَنجُ مِن رامِحٍ وَنابِلٍ وَرامِ\n",
            "لَبَابُ سمعيَ عن عذل بل يا موردَ الأيتامِ\n",
            "لَهُ مِن قَبيلِ السِهامِ\n",
            "وَحَلَّت مَكاناً لَم يَكُن بِذَميمِ\n",
            "كَم صُغت فيكَ مِن بِنتِ الكُرومِ\n",
            "كُمونَ الموتِ في حَدِّ مَصقولِ الغِرارَيْنِ مِخْذَمِ\n",
            "مصعَّدة من حيث لا تهتدي فيها الليوث لمجْثَمِ\n",
            "صُنّا قَوائِمَها عَنهُم فَما مِن نَدىً وَدَمِ\n",
            "فَكَم شاهدتُ قَبلك من نعيمٍ في النعامي\n",
            "ولا برحتْ في القفرِ غيرَ البهائمِ\n",
            "قُصورُ الوَرى عَن وَصلِها كَأَن لَمِ\n",
            "رَأى العُذّالُ بَذلَ المالِ مِن خَيلٍ وَمِن نَعَمِ\n",
            "على الهَوْلينِ من ليثٍ هصورٍ فِي خِطامِ\n",
            "وَطَوراً باكِياً مِن غَيرِ نارٍ وَلا فَحمِ\n",
            "على ناظري في الليلِ البَهيمِ\n",
            "شَفَت مِن دَهرِنا الحُطَمِ\n",
            "فالجسم منه في حَرَمِ\n",
            "\n"
          ]
        }
      ]
    },
    {
      "cell_type": "markdown",
      "source": [
        "src: "
      ],
      "metadata": {
        "id": "YRZKs4am8rH4"
      }
    },
    {
      "cell_type": "markdown",
      "source": [
        "https://github.com/hayderkharrufa/arabic_poem_generator/blob/master/generate_poems.ipynb"
      ],
      "metadata": {
        "id": "EJHYK2Gh8sgt"
      }
    }
  ]
}
