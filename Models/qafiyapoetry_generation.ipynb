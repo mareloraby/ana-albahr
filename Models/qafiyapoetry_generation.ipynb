{
  "cells": [
    {
      "cell_type": "code",
      "execution_count": 1,
      "metadata": {
        "id": "a8c0e076"
      },
      "outputs": [],
      "source": [
        "import numpy as np\n",
        "import pandas as pd"
      ],
      "id": "a8c0e076"
    },
    {
      "cell_type": "code",
      "execution_count": 76,
      "metadata": {
        "id": "4db27417"
      },
      "outputs": [],
      "source": [
        ""
      ],
      "id": "4db27417"
    },
    {
      "cell_type": "code",
      "execution_count": 3,
      "metadata": {
        "colab": {
          "base_uri": "https://localhost:8080/"
        },
        "id": "C8BSF_4EIJaR",
        "outputId": "eb97a56f-ddc6-4539-8e17-baca64fa14ec"
      },
      "outputs": [
        {
          "output_type": "stream",
          "name": "stdout",
          "text": [
            "Mounted at /content/drive\n"
          ]
        }
      ],
      "source": [
        "from google.colab import drive\n",
        "drive.mount('/content/drive')"
      ],
      "id": "C8BSF_4EIJaR"
    },
    {
      "cell_type": "code",
      "execution_count": 33,
      "metadata": {
        "id": "e29850f1"
      },
      "outputs": [],
      "source": [
        "# poems = data.poem_text.values"
      ],
      "id": "e29850f1"
    },
    {
      "cell_type": "code",
      "execution_count": 34,
      "metadata": {
        "id": "nA-WS2V0I3vS"
      },
      "outputs": [],
      "source": [
        "data = pd.read_csv('/content/drive/MyDrive/Barmagan/new_poetry_data.csv')"
      ],
      "id": "nA-WS2V0I3vS"
    },
    {
      "cell_type": "code",
      "execution_count": 6,
      "metadata": {
        "id": "RFosCqQaKb4x",
        "colab": {
          "base_uri": "https://localhost:8080/"
        },
        "outputId": "46577cc7-86d3-40c6-f66c-f9bfed51fc9d"
      },
      "outputs": [
        {
          "output_type": "stream",
          "name": "stdout",
          "text": [
            "Installing collected packages: pyarabic\n",
            "Successfully installed pyarabic-0.6.14\n"
          ]
        }
      ],
      "source": [
        ""
      ],
      "id": "RFosCqQaKb4x"
    },
    {
      "cell_type": "code",
      "source": [
        "chosen_data = data.iloc[0:30000]\n",
        "poems = list(chosen_data.refined_poem.values)"
      ],
      "metadata": {
        "id": "ZyEj9xd-jFRA"
      },
      "id": "ZyEj9xd-jFRA",
      "execution_count": 42,
      "outputs": []
    },
    {
      "cell_type": "code",
      "source": [
        "available_qafiyas = []\n",
        "bad_poems=[]\n",
        "for poem_id in range(0, len(poems)):\n",
        "\n",
        "    try:\n",
        "        idx = 1\n",
        "        lines= poems[poem_id].split('\\n')\n",
        "        while(idx < len(lines)-2):\n",
        "            qafiyas = []\n",
        "            qafiya1 = lines[idx].split()[-1][-1]\n",
        "\n",
        "            qafiyas.append(qafiya1)\n",
        "            idx+=2\n",
        "            qafiya2 = lines[idx].split()[-1][-1]\n",
        "            qafiyas.append(qafiya2)\n",
        "            new_poem = lines[idx-3:idx+1]\n",
        "            qafiyas.append(new_poem)\n",
        "            available_qafiyas.append(qafiyas)\n",
        "            idx+=2\n",
        "        \n",
        "    except:\n",
        "        bad_poems.append(poem_id)\n",
        "        "
      ],
      "metadata": {
        "id": "sOhNEu7SjDnl"
      },
      "id": "sOhNEu7SjDnl",
      "execution_count": 44,
      "outputs": []
    },
    {
      "cell_type": "code",
      "source": [
        "ending11 = []\n",
        "ending22 = []\n",
        "new_poems2 = []\n",
        "\n",
        "for poem_list in available_qafiyas:\n",
        "    ending11.append(poem_list[0])\n",
        "    ending22.append(poem_list[1])\n",
        "    new_poems2.append(poem_list[2])"
      ],
      "metadata": {
        "id": "dbEjhXurjK3Y"
      },
      "id": "dbEjhXurjK3Y",
      "execution_count": 46,
      "outputs": []
    },
    {
      "cell_type": "code",
      "source": [
        "chosen_data['ending11'] = ending11\n",
        "chosen_data['ending22'] = ending22\n",
        "chosen_data['new_poems2'] = new_poems2"
      ],
      "metadata": {
        "id": "1B_htHLljyak"
      },
      "id": "1B_htHLljyak",
      "execution_count": null,
      "outputs": []
    },
    {
      "cell_type": "code",
      "source": [
        "chosen_data['new_poems2'] = chosen_data['new_poems2'].apply(reform_df)"
      ],
      "metadata": {
        "id": "i7H2UNJ7j9km",
        "colab": {
          "base_uri": "https://localhost:8080/"
        },
        "outputId": "7b313d68-3025-40b6-b5f2-4aebd3c625c1"
      },
      "id": "i7H2UNJ7j9km",
      "execution_count": 50,
      "outputs": [
        {
          "output_type": "stream",
          "name": "stderr",
          "text": [
            "/usr/local/lib/python3.7/dist-packages/ipykernel_launcher.py:1: SettingWithCopyWarning: \n",
            "A value is trying to be set on a copy of a slice from a DataFrame.\n",
            "Try using .loc[row_indexer,col_indexer] = value instead\n",
            "\n",
            "See the caveats in the documentation: https://pandas.pydata.org/pandas-docs/stable/user_guide/indexing.html#returning-a-view-versus-a-copy\n",
            "  \"\"\"Entry point for launching an IPython kernel.\n"
          ]
        }
      ]
    },
    {
      "cell_type": "code",
      "source": [
        "chosen_data.sample()"
      ],
      "metadata": {
        "colab": {
          "base_uri": "https://localhost:8080/",
          "height": 78
        },
        "id": "K77-3YgYksC4",
        "outputId": "4ed15302-84b3-425b-f063-89d1ffbac1f4"
      },
      "id": "K77-3YgYksC4",
      "execution_count": 16,
      "outputs": [
        {
          "output_type": "execute_result",
          "data": {
            "text/plain": [
              "      Unnamed: 0 ending1 ending2  \\\n",
              "1470        1470       ِ       ِ   \n",
              "\n",
              "                                                   poem  \\\n",
              "1470  ['وَمَسكِنُ أَهلَها مِن بَطنِ جَزعٍ', 'تَبيضُ ...   \n",
              "\n",
              "                                           refined_poem  \n",
              "1470  ['ومسكن أهلها من بطن جزع', 'تبيض به مصاييف الح...  "
            ],
            "text/html": [
              "\n",
              "  <div id=\"df-361a64d8-837b-4d8d-a435-313dc0afa1da\">\n",
              "    <div class=\"colab-df-container\">\n",
              "      <div>\n",
              "<style scoped>\n",
              "    .dataframe tbody tr th:only-of-type {\n",
              "        vertical-align: middle;\n",
              "    }\n",
              "\n",
              "    .dataframe tbody tr th {\n",
              "        vertical-align: top;\n",
              "    }\n",
              "\n",
              "    .dataframe thead th {\n",
              "        text-align: right;\n",
              "    }\n",
              "</style>\n",
              "<table border=\"1\" class=\"dataframe\">\n",
              "  <thead>\n",
              "    <tr style=\"text-align: right;\">\n",
              "      <th></th>\n",
              "      <th>Unnamed: 0</th>\n",
              "      <th>ending1</th>\n",
              "      <th>ending2</th>\n",
              "      <th>poem</th>\n",
              "      <th>refined_poem</th>\n",
              "    </tr>\n",
              "  </thead>\n",
              "  <tbody>\n",
              "    <tr>\n",
              "      <th>1470</th>\n",
              "      <td>1470</td>\n",
              "      <td>ِ</td>\n",
              "      <td>ِ</td>\n",
              "      <td>['وَمَسكِنُ أَهلَها مِن بَطنِ جَزعٍ', 'تَبيضُ ...</td>\n",
              "      <td>['ومسكن أهلها من بطن جزع', 'تبيض به مصاييف الح...</td>\n",
              "    </tr>\n",
              "  </tbody>\n",
              "</table>\n",
              "</div>\n",
              "      <button class=\"colab-df-convert\" onclick=\"convertToInteractive('df-361a64d8-837b-4d8d-a435-313dc0afa1da')\"\n",
              "              title=\"Convert this dataframe to an interactive table.\"\n",
              "              style=\"display:none;\">\n",
              "        \n",
              "  <svg xmlns=\"http://www.w3.org/2000/svg\" height=\"24px\"viewBox=\"0 0 24 24\"\n",
              "       width=\"24px\">\n",
              "    <path d=\"M0 0h24v24H0V0z\" fill=\"none\"/>\n",
              "    <path d=\"M18.56 5.44l.94 2.06.94-2.06 2.06-.94-2.06-.94-.94-2.06-.94 2.06-2.06.94zm-11 1L8.5 8.5l.94-2.06 2.06-.94-2.06-.94L8.5 2.5l-.94 2.06-2.06.94zm10 10l.94 2.06.94-2.06 2.06-.94-2.06-.94-.94-2.06-.94 2.06-2.06.94z\"/><path d=\"M17.41 7.96l-1.37-1.37c-.4-.4-.92-.59-1.43-.59-.52 0-1.04.2-1.43.59L10.3 9.45l-7.72 7.72c-.78.78-.78 2.05 0 2.83L4 21.41c.39.39.9.59 1.41.59.51 0 1.02-.2 1.41-.59l7.78-7.78 2.81-2.81c.8-.78.8-2.07 0-2.86zM5.41 20L4 18.59l7.72-7.72 1.47 1.35L5.41 20z\"/>\n",
              "  </svg>\n",
              "      </button>\n",
              "      \n",
              "  <style>\n",
              "    .colab-df-container {\n",
              "      display:flex;\n",
              "      flex-wrap:wrap;\n",
              "      gap: 12px;\n",
              "    }\n",
              "\n",
              "    .colab-df-convert {\n",
              "      background-color: #E8F0FE;\n",
              "      border: none;\n",
              "      border-radius: 50%;\n",
              "      cursor: pointer;\n",
              "      display: none;\n",
              "      fill: #1967D2;\n",
              "      height: 32px;\n",
              "      padding: 0 0 0 0;\n",
              "      width: 32px;\n",
              "    }\n",
              "\n",
              "    .colab-df-convert:hover {\n",
              "      background-color: #E2EBFA;\n",
              "      box-shadow: 0px 1px 2px rgba(60, 64, 67, 0.3), 0px 1px 3px 1px rgba(60, 64, 67, 0.15);\n",
              "      fill: #174EA6;\n",
              "    }\n",
              "\n",
              "    [theme=dark] .colab-df-convert {\n",
              "      background-color: #3B4455;\n",
              "      fill: #D2E3FC;\n",
              "    }\n",
              "\n",
              "    [theme=dark] .colab-df-convert:hover {\n",
              "      background-color: #434B5C;\n",
              "      box-shadow: 0px 1px 3px 1px rgba(0, 0, 0, 0.15);\n",
              "      filter: drop-shadow(0px 1px 2px rgba(0, 0, 0, 0.3));\n",
              "      fill: #FFFFFF;\n",
              "    }\n",
              "  </style>\n",
              "\n",
              "      <script>\n",
              "        const buttonEl =\n",
              "          document.querySelector('#df-361a64d8-837b-4d8d-a435-313dc0afa1da button.colab-df-convert');\n",
              "        buttonEl.style.display =\n",
              "          google.colab.kernel.accessAllowed ? 'block' : 'none';\n",
              "\n",
              "        async function convertToInteractive(key) {\n",
              "          const element = document.querySelector('#df-361a64d8-837b-4d8d-a435-313dc0afa1da');\n",
              "          const dataTable =\n",
              "            await google.colab.kernel.invokeFunction('convertToInteractive',\n",
              "                                                     [key], {});\n",
              "          if (!dataTable) return;\n",
              "\n",
              "          const docLinkHtml = 'Like what you see? Visit the ' +\n",
              "            '<a target=\"_blank\" href=https://colab.research.google.com/notebooks/data_table.ipynb>data table notebook</a>'\n",
              "            + ' to learn more about interactive tables.';\n",
              "          element.innerHTML = '';\n",
              "          dataTable['output_type'] = 'display_data';\n",
              "          await google.colab.output.renderOutput(dataTable, element);\n",
              "          const docLink = document.createElement('div');\n",
              "          docLink.innerHTML = docLinkHtml;\n",
              "          element.appendChild(docLink);\n",
              "        }\n",
              "      </script>\n",
              "    </div>\n",
              "  </div>\n",
              "  "
            ]
          },
          "metadata": {},
          "execution_count": 16
        }
      ]
    },
    {
      "cell_type": "code",
      "source": [
        "train_data =  chosen_data[(chosen_data['ending11'] == 'ا') |\\\n",
        "            (chosen_data['ending11'] == 'ب')|\\\n",
        "            (chosen_data['ending11'] == 'ر')|\\\n",
        "            (chosen_data['ending11'] == 'ه')|\\\n",
        "            (chosen_data['ending11'] == 'ل')|\\\n",
        "            (chosen_data['ending11'] == 'د')|\\\n",
        "            (chosen_data['ending11'] == 'م')|\\\n",
        "            (chosen_data['ending11'] == 'ي')|\\\n",
        "            (chosen_data['ending11'] == 'ء')|\\\n",
        "            (chosen_data['ending11'] == 'ن')|\\\n",
        "            (chosen_data['ending11'] == 'ت')|\\\n",
        "            (chosen_data['ending11'] == 'ح')|\\\n",
        "            (chosen_data['ending11'] == 'ق')]"
      ],
      "metadata": {
        "id": "q5vmWVbG52wU"
      },
      "id": "q5vmWVbG52wU",
      "execution_count": 51,
      "outputs": []
    },
    {
      "cell_type": "code",
      "source": [
        "train_data.sample()"
      ],
      "metadata": {
        "colab": {
          "base_uri": "https://localhost:8080/",
          "height": 78
        },
        "id": "BoHBvt7_7SqV",
        "outputId": "aab4f598-7f11-4256-cfac-3349dbf6a66d"
      },
      "id": "BoHBvt7_7SqV",
      "execution_count": 52,
      "outputs": [
        {
          "output_type": "execute_result",
          "data": {
            "text/plain": [
              "       Unnamed: 0 ending1 ending2  \\\n",
              "24387       24387       ِ       ِ   \n",
              "\n",
              "                                                    poem  \\\n",
              "24387  ['إِنَّ المَنِيَّةَ راوَحَت', 'ني يَومَ رُحتِ ...   \n",
              "\n",
              "                                            refined_poem ending11 ending22  \\\n",
              "24387  إن المنية راوحت\\nني يوم رحت مع الغياب\\nإما ذهب...        ب        ب   \n",
              "\n",
              "                                              new_poems2  \n",
              "24387  إن المنية راوحت\\nني يوم رحت مع الغياب\\nإما ذهب...  "
            ],
            "text/html": [
              "\n",
              "  <div id=\"df-7b4980d5-4d3b-4033-b1c5-e0aa8239156f\">\n",
              "    <div class=\"colab-df-container\">\n",
              "      <div>\n",
              "<style scoped>\n",
              "    .dataframe tbody tr th:only-of-type {\n",
              "        vertical-align: middle;\n",
              "    }\n",
              "\n",
              "    .dataframe tbody tr th {\n",
              "        vertical-align: top;\n",
              "    }\n",
              "\n",
              "    .dataframe thead th {\n",
              "        text-align: right;\n",
              "    }\n",
              "</style>\n",
              "<table border=\"1\" class=\"dataframe\">\n",
              "  <thead>\n",
              "    <tr style=\"text-align: right;\">\n",
              "      <th></th>\n",
              "      <th>Unnamed: 0</th>\n",
              "      <th>ending1</th>\n",
              "      <th>ending2</th>\n",
              "      <th>poem</th>\n",
              "      <th>refined_poem</th>\n",
              "      <th>ending11</th>\n",
              "      <th>ending22</th>\n",
              "      <th>new_poems2</th>\n",
              "    </tr>\n",
              "  </thead>\n",
              "  <tbody>\n",
              "    <tr>\n",
              "      <th>24387</th>\n",
              "      <td>24387</td>\n",
              "      <td>ِ</td>\n",
              "      <td>ِ</td>\n",
              "      <td>['إِنَّ المَنِيَّةَ راوَحَت', 'ني يَومَ رُحتِ ...</td>\n",
              "      <td>إن المنية راوحت\\nني يوم رحت مع الغياب\\nإما ذهب...</td>\n",
              "      <td>ب</td>\n",
              "      <td>ب</td>\n",
              "      <td>إن المنية راوحت\\nني يوم رحت مع الغياب\\nإما ذهب...</td>\n",
              "    </tr>\n",
              "  </tbody>\n",
              "</table>\n",
              "</div>\n",
              "      <button class=\"colab-df-convert\" onclick=\"convertToInteractive('df-7b4980d5-4d3b-4033-b1c5-e0aa8239156f')\"\n",
              "              title=\"Convert this dataframe to an interactive table.\"\n",
              "              style=\"display:none;\">\n",
              "        \n",
              "  <svg xmlns=\"http://www.w3.org/2000/svg\" height=\"24px\"viewBox=\"0 0 24 24\"\n",
              "       width=\"24px\">\n",
              "    <path d=\"M0 0h24v24H0V0z\" fill=\"none\"/>\n",
              "    <path d=\"M18.56 5.44l.94 2.06.94-2.06 2.06-.94-2.06-.94-.94-2.06-.94 2.06-2.06.94zm-11 1L8.5 8.5l.94-2.06 2.06-.94-2.06-.94L8.5 2.5l-.94 2.06-2.06.94zm10 10l.94 2.06.94-2.06 2.06-.94-2.06-.94-.94-2.06-.94 2.06-2.06.94z\"/><path d=\"M17.41 7.96l-1.37-1.37c-.4-.4-.92-.59-1.43-.59-.52 0-1.04.2-1.43.59L10.3 9.45l-7.72 7.72c-.78.78-.78 2.05 0 2.83L4 21.41c.39.39.9.59 1.41.59.51 0 1.02-.2 1.41-.59l7.78-7.78 2.81-2.81c.8-.78.8-2.07 0-2.86zM5.41 20L4 18.59l7.72-7.72 1.47 1.35L5.41 20z\"/>\n",
              "  </svg>\n",
              "      </button>\n",
              "      \n",
              "  <style>\n",
              "    .colab-df-container {\n",
              "      display:flex;\n",
              "      flex-wrap:wrap;\n",
              "      gap: 12px;\n",
              "    }\n",
              "\n",
              "    .colab-df-convert {\n",
              "      background-color: #E8F0FE;\n",
              "      border: none;\n",
              "      border-radius: 50%;\n",
              "      cursor: pointer;\n",
              "      display: none;\n",
              "      fill: #1967D2;\n",
              "      height: 32px;\n",
              "      padding: 0 0 0 0;\n",
              "      width: 32px;\n",
              "    }\n",
              "\n",
              "    .colab-df-convert:hover {\n",
              "      background-color: #E2EBFA;\n",
              "      box-shadow: 0px 1px 2px rgba(60, 64, 67, 0.3), 0px 1px 3px 1px rgba(60, 64, 67, 0.15);\n",
              "      fill: #174EA6;\n",
              "    }\n",
              "\n",
              "    [theme=dark] .colab-df-convert {\n",
              "      background-color: #3B4455;\n",
              "      fill: #D2E3FC;\n",
              "    }\n",
              "\n",
              "    [theme=dark] .colab-df-convert:hover {\n",
              "      background-color: #434B5C;\n",
              "      box-shadow: 0px 1px 3px 1px rgba(0, 0, 0, 0.15);\n",
              "      filter: drop-shadow(0px 1px 2px rgba(0, 0, 0, 0.3));\n",
              "      fill: #FFFFFF;\n",
              "    }\n",
              "  </style>\n",
              "\n",
              "      <script>\n",
              "        const buttonEl =\n",
              "          document.querySelector('#df-7b4980d5-4d3b-4033-b1c5-e0aa8239156f button.colab-df-convert');\n",
              "        buttonEl.style.display =\n",
              "          google.colab.kernel.accessAllowed ? 'block' : 'none';\n",
              "\n",
              "        async function convertToInteractive(key) {\n",
              "          const element = document.querySelector('#df-7b4980d5-4d3b-4033-b1c5-e0aa8239156f');\n",
              "          const dataTable =\n",
              "            await google.colab.kernel.invokeFunction('convertToInteractive',\n",
              "                                                     [key], {});\n",
              "          if (!dataTable) return;\n",
              "\n",
              "          const docLinkHtml = 'Like what you see? Visit the ' +\n",
              "            '<a target=\"_blank\" href=https://colab.research.google.com/notebooks/data_table.ipynb>data table notebook</a>'\n",
              "            + ' to learn more about interactive tables.';\n",
              "          element.innerHTML = '';\n",
              "          dataTable['output_type'] = 'display_data';\n",
              "          await google.colab.output.renderOutput(dataTable, element);\n",
              "          const docLink = document.createElement('div');\n",
              "          docLink.innerHTML = docLinkHtml;\n",
              "          element.appendChild(docLink);\n",
              "        }\n",
              "      </script>\n",
              "    </div>\n",
              "  </div>\n",
              "  "
            ]
          },
          "metadata": {},
          "execution_count": 52
        }
      ]
    },
    {
      "cell_type": "code",
      "execution_count": 54,
      "metadata": {
        "id": "06d2fcbb"
      },
      "outputs": [],
      "source": [
        "from transformers import GPT2TokenizerFast, GPT2LMHeadModel"
      ],
      "id": "06d2fcbb"
    },
    {
      "cell_type": "code",
      "execution_count": 55,
      "metadata": {
        "id": "9d865a2e",
        "colab": {
          "base_uri": "https://localhost:8080/",
          "height": 144,
          "referenced_widgets": [
            "9b791da2088042c5bf5c91e764e51ef1",
            "2290728371314aee9fa88cf9e1d2fff6",
            "3c154f4756bf49bb832d1e9469554b5c",
            "b1f1dd822de74d98bbe6ad514d9e4469",
            "8a63d0b247494b8b9f13542087f26c46",
            "79c51bd2acb5438fad88153454b94eb0",
            "a9897e4bb78345bc8d8f304a03ac7511",
            "44f7e383ac9947b2bde47d8899f7ada6",
            "e98a9da413024ed8be6fa9f048dd1ce1",
            "8e937dceee384946b0278a1ee729bc7c",
            "204f16bf5b434ff8a8dbb63cbaa41dd6",
            "886a5a7fa211477ca8c9a9070e082f26",
            "9e684ed8c34b402cabbf2b1261f64147",
            "a306577427944a6f96216f2f9ac6694e",
            "38b1cc7b705b402ca6e48c1a261cfe44",
            "ff0709c70be442b49ef1dadcfe5a5da6",
            "9ef7e9d16f6b423d8e8ddf37528f2994",
            "0fc14d63b10349e2879f5ce4060548ff",
            "571fdf78111f4e4bab4381fd4a677173",
            "605c7e8453bf44eb8f94a579b63e1f69",
            "4a9e696541e8476a904396b6f5e12e09",
            "ea57a6ecd0f9460ca9b9aebe2cbb8d46",
            "1752c87170cf41faa58c2ed6d46f0198",
            "46f866f56ecb4ba38f05e09ed00b8751",
            "0aa0599e22284c17aa14f58e87e77fb7",
            "45a8c51a30f94d1a84ea9e7c5c161329",
            "93bc5e580da9488b8e70269b9dd17a7c",
            "4899b231b0074c0cbf479ca088b916e9",
            "e7b143dfa3554277ab5c76dc793088fa",
            "7dba7f71f0774828b162ef0b23205aa3",
            "d987a3ecc2754c37b40efc9ed29c3b43",
            "d17b7dcde1ae48b38a737eea65d00b66",
            "e71bd211c34d4e15830f03f7216ecf5e",
            "45b6a6cc7e01419e83c6c0c692f974a3",
            "7a612a2373f24c84a7849d30180650a2",
            "bac93a2d57514e7bacbe992c59f2a38f",
            "5e2bc3a6ee9f47b7887fab64e6f83ee8",
            "8f4db7158a0041bf990864bb1df7acf6",
            "7229c1901a4a4abbbdfd39e5648c68ec",
            "d4f2a7ed678a4639a24728a769231c0d",
            "ac370b3304e642a483264f2df2922519",
            "b9585f1934994ecc87106966c08c22f5",
            "f268b4bc2dfd4476baee725715ecfed1",
            "6b2a35c6634f4b6d8badf8cc7e3e549d"
          ]
        },
        "outputId": "19e6374c-62a2-4bfb-f981-3d00baa813ce"
      },
      "outputs": [
        {
          "output_type": "display_data",
          "data": {
            "text/plain": [
              "Downloading:   0%|          | 0.00/1.85M [00:00<?, ?B/s]"
            ],
            "application/vnd.jupyter.widget-view+json": {
              "version_major": 2,
              "version_minor": 0,
              "model_id": "9b791da2088042c5bf5c91e764e51ef1"
            }
          },
          "metadata": {}
        },
        {
          "output_type": "display_data",
          "data": {
            "text/plain": [
              "Downloading:   0%|          | 0.00/1.43M [00:00<?, ?B/s]"
            ],
            "application/vnd.jupyter.widget-view+json": {
              "version_major": 2,
              "version_minor": 0,
              "model_id": "886a5a7fa211477ca8c9a9070e082f26"
            }
          },
          "metadata": {}
        },
        {
          "output_type": "display_data",
          "data": {
            "text/plain": [
              "Downloading:   0%|          | 0.00/4.31M [00:00<?, ?B/s]"
            ],
            "application/vnd.jupyter.widget-view+json": {
              "version_major": 2,
              "version_minor": 0,
              "model_id": "1752c87170cf41faa58c2ed6d46f0198"
            }
          },
          "metadata": {}
        },
        {
          "output_type": "display_data",
          "data": {
            "text/plain": [
              "Downloading:   0%|          | 0.00/843 [00:00<?, ?B/s]"
            ],
            "application/vnd.jupyter.widget-view+json": {
              "version_major": 2,
              "version_minor": 0,
              "model_id": "45b6a6cc7e01419e83c6c0c692f974a3"
            }
          },
          "metadata": {}
        }
      ],
      "source": [
        "tokenizer = GPT2TokenizerFast.from_pretrained('aubmindlab/aragpt2-medium')"
      ],
      "id": "9d865a2e"
    },
    {
      "cell_type": "code",
      "execution_count": 56,
      "metadata": {
        "id": "21feafe3",
        "colab": {
          "base_uri": "https://localhost:8080/",
          "height": 49,
          "referenced_widgets": [
            "44537d5c2fa2412bb07f9c0c59515ac4",
            "52dc76a0ff8547fca42b341deb144da8",
            "428eb7e765e44309a5b5e2875db0e32b",
            "88cee10d463a414ca854d806edbefbc5",
            "28007774e5ca473da771987f6da527c8",
            "9eef8bf8975841ff8c43f8ad27c4466d",
            "213a1ba66daa4ef5b7f1003c2e08de4b",
            "b570e7fa7f134b15b8dfbf5919a73e2c",
            "d5b3564046b94bcd9bea51ea4b705630",
            "a6257751441f472280a86a62bfc8b5e6",
            "1fa5bb7c33144befa53c7763efa36219"
          ]
        },
        "outputId": "f431e20c-b092-482e-8fae-a7196410becb"
      },
      "outputs": [
        {
          "output_type": "display_data",
          "data": {
            "text/plain": [
              "Downloading:   0%|          | 0.00/1.40G [00:00<?, ?B/s]"
            ],
            "application/vnd.jupyter.widget-view+json": {
              "version_major": 2,
              "version_minor": 0,
              "model_id": "44537d5c2fa2412bb07f9c0c59515ac4"
            }
          },
          "metadata": {}
        }
      ],
      "source": [
        "model = GPT2LMHeadModel.from_pretrained('aubmindlab/aragpt2-medium')"
      ],
      "id": "21feafe3"
    },
    {
      "cell_type": "code",
      "execution_count": 57,
      "metadata": {
        "id": "0338b550",
        "outputId": "966b133c-4227-4a6d-9b59-20222f65f997",
        "colab": {
          "base_uri": "https://localhost:8080/"
        }
      },
      "outputs": [
        {
          "output_type": "execute_result",
          "data": {
            "text/plain": [
              "1"
            ]
          },
          "metadata": {},
          "execution_count": 57
        }
      ],
      "source": [
        "tokenizer.add_special_tokens({'sep_token': '[SEP]'})\n",
        "tokenizer.add_special_tokens({'pad_token': '[PAD]'})\n",
        "tokenizer.add_special_tokens({'additional_special_tokens':['[NEWLINE]']})"
      ],
      "id": "0338b550"
    },
    {
      "cell_type": "code",
      "execution_count": 58,
      "metadata": {
        "id": "f18d462b",
        "outputId": "faf9e28a-80db-481f-ab6b-72c96dc92cee",
        "colab": {
          "base_uri": "https://localhost:8080/"
        }
      },
      "outputs": [
        {
          "output_type": "execute_result",
          "data": {
            "text/plain": [
              "Embedding(64003, 1024)"
            ]
          },
          "metadata": {},
          "execution_count": 58
        }
      ],
      "source": [
        "model.resize_token_embeddings(len(tokenizer))"
      ],
      "id": "f18d462b"
    },
    {
      "cell_type": "code",
      "source": [
        "chosen_data.sample()"
      ],
      "metadata": {
        "colab": {
          "base_uri": "https://localhost:8080/",
          "height": 78
        },
        "id": "e8Co8YTM4vOn",
        "outputId": "644fc2cf-8f3a-481c-ad69-d2898a85cd26"
      },
      "id": "e8Co8YTM4vOn",
      "execution_count": 14,
      "outputs": [
        {
          "output_type": "execute_result",
          "data": {
            "text/plain": [
              "      Unnamed: 0  Unnamed: 0.1 ending1 ending2  \\\n",
              "9976        9976          9976       ُ       ُ   \n",
              "\n",
              "                                                   poem  \\\n",
              "9976  ['ينتحي من عِدائه في الثَّنِيَّا', 'تِ ولَحْبُ...   \n",
              "\n",
              "                                           refined_poem ending11 ending22  \\\n",
              "9976  ينتحي من عدائه في الثنيا\\nت ولحب الهدى له ملحو...        ب        ب   \n",
              "\n",
              "                                             new_poems2  \n",
              "9976  ينتحي من عدائه في الثنيا\\nت ولحب الهدى له ملحو...  "
            ],
            "text/html": [
              "\n",
              "  <div id=\"df-9ca2e25f-85be-4ab1-8b25-f3d1d677d54f\">\n",
              "    <div class=\"colab-df-container\">\n",
              "      <div>\n",
              "<style scoped>\n",
              "    .dataframe tbody tr th:only-of-type {\n",
              "        vertical-align: middle;\n",
              "    }\n",
              "\n",
              "    .dataframe tbody tr th {\n",
              "        vertical-align: top;\n",
              "    }\n",
              "\n",
              "    .dataframe thead th {\n",
              "        text-align: right;\n",
              "    }\n",
              "</style>\n",
              "<table border=\"1\" class=\"dataframe\">\n",
              "  <thead>\n",
              "    <tr style=\"text-align: right;\">\n",
              "      <th></th>\n",
              "      <th>Unnamed: 0</th>\n",
              "      <th>Unnamed: 0.1</th>\n",
              "      <th>ending1</th>\n",
              "      <th>ending2</th>\n",
              "      <th>poem</th>\n",
              "      <th>refined_poem</th>\n",
              "      <th>ending11</th>\n",
              "      <th>ending22</th>\n",
              "      <th>new_poems2</th>\n",
              "    </tr>\n",
              "  </thead>\n",
              "  <tbody>\n",
              "    <tr>\n",
              "      <th>9976</th>\n",
              "      <td>9976</td>\n",
              "      <td>9976</td>\n",
              "      <td>ُ</td>\n",
              "      <td>ُ</td>\n",
              "      <td>['ينتحي من عِدائه في الثَّنِيَّا', 'تِ ولَحْبُ...</td>\n",
              "      <td>ينتحي من عدائه في الثنيا\\nت ولحب الهدى له ملحو...</td>\n",
              "      <td>ب</td>\n",
              "      <td>ب</td>\n",
              "      <td>ينتحي من عدائه في الثنيا\\nت ولحب الهدى له ملحو...</td>\n",
              "    </tr>\n",
              "  </tbody>\n",
              "</table>\n",
              "</div>\n",
              "      <button class=\"colab-df-convert\" onclick=\"convertToInteractive('df-9ca2e25f-85be-4ab1-8b25-f3d1d677d54f')\"\n",
              "              title=\"Convert this dataframe to an interactive table.\"\n",
              "              style=\"display:none;\">\n",
              "        \n",
              "  <svg xmlns=\"http://www.w3.org/2000/svg\" height=\"24px\"viewBox=\"0 0 24 24\"\n",
              "       width=\"24px\">\n",
              "    <path d=\"M0 0h24v24H0V0z\" fill=\"none\"/>\n",
              "    <path d=\"M18.56 5.44l.94 2.06.94-2.06 2.06-.94-2.06-.94-.94-2.06-.94 2.06-2.06.94zm-11 1L8.5 8.5l.94-2.06 2.06-.94-2.06-.94L8.5 2.5l-.94 2.06-2.06.94zm10 10l.94 2.06.94-2.06 2.06-.94-2.06-.94-.94-2.06-.94 2.06-2.06.94z\"/><path d=\"M17.41 7.96l-1.37-1.37c-.4-.4-.92-.59-1.43-.59-.52 0-1.04.2-1.43.59L10.3 9.45l-7.72 7.72c-.78.78-.78 2.05 0 2.83L4 21.41c.39.39.9.59 1.41.59.51 0 1.02-.2 1.41-.59l7.78-7.78 2.81-2.81c.8-.78.8-2.07 0-2.86zM5.41 20L4 18.59l7.72-7.72 1.47 1.35L5.41 20z\"/>\n",
              "  </svg>\n",
              "      </button>\n",
              "      \n",
              "  <style>\n",
              "    .colab-df-container {\n",
              "      display:flex;\n",
              "      flex-wrap:wrap;\n",
              "      gap: 12px;\n",
              "    }\n",
              "\n",
              "    .colab-df-convert {\n",
              "      background-color: #E8F0FE;\n",
              "      border: none;\n",
              "      border-radius: 50%;\n",
              "      cursor: pointer;\n",
              "      display: none;\n",
              "      fill: #1967D2;\n",
              "      height: 32px;\n",
              "      padding: 0 0 0 0;\n",
              "      width: 32px;\n",
              "    }\n",
              "\n",
              "    .colab-df-convert:hover {\n",
              "      background-color: #E2EBFA;\n",
              "      box-shadow: 0px 1px 2px rgba(60, 64, 67, 0.3), 0px 1px 3px 1px rgba(60, 64, 67, 0.15);\n",
              "      fill: #174EA6;\n",
              "    }\n",
              "\n",
              "    [theme=dark] .colab-df-convert {\n",
              "      background-color: #3B4455;\n",
              "      fill: #D2E3FC;\n",
              "    }\n",
              "\n",
              "    [theme=dark] .colab-df-convert:hover {\n",
              "      background-color: #434B5C;\n",
              "      box-shadow: 0px 1px 3px 1px rgba(0, 0, 0, 0.15);\n",
              "      filter: drop-shadow(0px 1px 2px rgba(0, 0, 0, 0.3));\n",
              "      fill: #FFFFFF;\n",
              "    }\n",
              "  </style>\n",
              "\n",
              "      <script>\n",
              "        const buttonEl =\n",
              "          document.querySelector('#df-9ca2e25f-85be-4ab1-8b25-f3d1d677d54f button.colab-df-convert');\n",
              "        buttonEl.style.display =\n",
              "          google.colab.kernel.accessAllowed ? 'block' : 'none';\n",
              "\n",
              "        async function convertToInteractive(key) {\n",
              "          const element = document.querySelector('#df-9ca2e25f-85be-4ab1-8b25-f3d1d677d54f');\n",
              "          const dataTable =\n",
              "            await google.colab.kernel.invokeFunction('convertToInteractive',\n",
              "                                                     [key], {});\n",
              "          if (!dataTable) return;\n",
              "\n",
              "          const docLinkHtml = 'Like what you see? Visit the ' +\n",
              "            '<a target=\"_blank\" href=https://colab.research.google.com/notebooks/data_table.ipynb>data table notebook</a>'\n",
              "            + ' to learn more about interactive tables.';\n",
              "          element.innerHTML = '';\n",
              "          dataTable['output_type'] = 'display_data';\n",
              "          await google.colab.output.renderOutput(dataTable, element);\n",
              "          const docLink = document.createElement('div');\n",
              "          docLink.innerHTML = docLinkHtml;\n",
              "          element.appendChild(docLink);\n",
              "        }\n",
              "      </script>\n",
              "    </div>\n",
              "  </div>\n",
              "  "
            ]
          },
          "metadata": {},
          "execution_count": 14
        }
      ]
    },
    {
      "cell_type": "code",
      "source": [
        "poems = list(chosen_data.new_poems2.values)\n",
        "poems[0]"
      ],
      "metadata": {
        "colab": {
          "base_uri": "https://localhost:8080/",
          "height": 34
        },
        "id": "-7qHoIaylpg1",
        "outputId": "2b80c94e-7cb2-4aed-f349-809f40cb8013"
      },
      "id": "-7qHoIaylpg1",
      "execution_count": 59,
      "outputs": [
        {
          "output_type": "execute_result",
          "data": {
            "text/plain": [
              "'خليلي عوجا فانظراني لعلني\\nأسائل رسما قد عفا وتهدما\\nبأوعس من ذات الحجى ما عرفته\\nبعيد حصاة النفس إلا توهما\\n'"
            ],
            "application/vnd.google.colaboratory.intrinsic+json": {
              "type": "string"
            }
          },
          "metadata": {},
          "execution_count": 59
        }
      ]
    },
    {
      "cell_type": "code",
      "source": [
        "ending11 = list(chosen_data.ending11.values)\n",
        "ending22 = list(chosen_data.ending22.values)"
      ],
      "metadata": {
        "id": "1GEEwYXUoinN"
      },
      "id": "1GEEwYXUoinN",
      "execution_count": 60,
      "outputs": []
    },
    {
      "cell_type": "code",
      "execution_count": 61,
      "metadata": {
        "id": "dfc7dd12"
      },
      "outputs": [],
      "source": [
        "def prepare_input(qafiya1, qafiya2, poem, tokenizer):\n",
        "    input_sentences = []\n",
        "    for q1, q2, p in zip(qafiya1, qafiya2, poem):\n",
        "        # stacked_poem = ''\n",
        "        # list_p = p.strip('][').split(', ')\n",
        "        # for lineid in range(len(list_p)):\n",
        "        #     stacked_poem += list_p[lineid].strip(\"'\")+ '\\n'\n",
        " \n",
        "\n",
        "        line = tokenizer.bos_token + str(q1) + tokenizer.sep_token\n",
        "        plines = p.split('\\n')\n",
        "        for linep in range(0,len(plines)):\n",
        "          if(linep == 3):\n",
        "            line += plines[linep] + tokenizer.eos_token\n",
        "            break\n",
        "\n",
        "          # if (linep >3):\n",
        "          #   continue  \n",
        "          else:\n",
        "            line += plines[linep] + tokenizer.additional_special_tokens[0]\n",
        "          \n",
        "          \n",
        "        input_sentences.append(line)\n",
        "\n",
        "    return input_sentences\n",
        "\n",
        "input_sentences = prepare_input(ending11, ending22, poems, tokenizer)"
      ],
      "id": "dfc7dd12"
    },
    {
      "cell_type": "code",
      "execution_count": 62,
      "metadata": {
        "id": "7cfdc168"
      },
      "outputs": [],
      "source": [
        "def get_max_length(input_sentences):\n",
        "    max_len = 0\n",
        "    for line in input_sentences:\n",
        "        encoded_line = tokenizer.encode(line)\n",
        "        encoded_len = len(encoded_line)\n",
        "        max_len = max(max_len, encoded_len)\n",
        "    \n",
        "    return max_len\n",
        " \n",
        "max_length = get_max_length(input_sentences)"
      ],
      "id": "7cfdc168"
    },
    {
      "cell_type": "code",
      "execution_count": null,
      "metadata": {
        "id": "6d1113b5",
        "colab": {
          "base_uri": "https://localhost:8080/"
        },
        "outputId": "a530ca8c-2258-4329-bdb8-8faf87381f58"
      },
      "outputs": [
        {
          "output_type": "stream",
          "name": "stdout",
          "text": [
            "53\n"
          ]
        }
      ],
      "source": [
        "print(max_length)"
      ],
      "id": "6d1113b5"
    },
    {
      "cell_type": "code",
      "execution_count": 63,
      "metadata": {
        "id": "484d1444"
      },
      "outputs": [],
      "source": [
        "import torch"
      ],
      "id": "484d1444"
    },
    {
      "cell_type": "code",
      "execution_count": 64,
      "metadata": {
        "id": "4afc5e42"
      },
      "outputs": [],
      "source": [
        "def encode_input(input_sentences, tokenizer, max_len):\n",
        "    masks = []\n",
        "    ids = []\n",
        "    for line in input_sentences:\n",
        "        encoded_line = tokenizer.encode_plus(line, return_tensors = 'pt',\\\n",
        "                                       truncation = True,\n",
        "                                       max_length = max_len,\n",
        "                                       padding= 'max_length')\n",
        "        ids.append(encoded_line['input_ids'])\n",
        "        masks.append(encoded_line['attention_mask'])\n",
        "\n",
        "    \n",
        "    ids_tensor = torch.cat(ids, dim = 0)\n",
        "    masks_tensor = torch.cat(masks, dim=0)\n",
        "    \n",
        "    return ids_tensor, masks_tensor\n",
        "\n",
        "input_ids, attention_mask = encode_input(input_sentences, tokenizer, max_length)"
      ],
      "id": "4afc5e42"
    },
    {
      "cell_type": "code",
      "execution_count": null,
      "metadata": {
        "id": "1bcafd1b",
        "colab": {
          "base_uri": "https://localhost:8080/"
        },
        "outputId": "261de2c4-559f-450e-b4e2-ed87ff806c08"
      },
      "outputs": [
        {
          "output_type": "execute_result",
          "data": {
            "text/plain": [
              "torch.Size([10000, 50])"
            ]
          },
          "metadata": {},
          "execution_count": 22
        }
      ],
      "source": [
        "attention_mask.shape"
      ],
      "id": "1bcafd1b"
    },
    {
      "cell_type": "code",
      "execution_count": 65,
      "metadata": {
        "id": "ad309f2b"
      },
      "outputs": [],
      "source": [
        "from torch.utils.data import DataLoader, TensorDataset, random_split\n",
        "from transformers import AdamW, get_linear_schedule_with_warmup\n",
        "from tqdm import tqdm\n"
      ],
      "id": "ad309f2b"
    },
    {
      "cell_type": "code",
      "execution_count": 66,
      "metadata": {
        "id": "dbd7b72e"
      },
      "outputs": [],
      "source": [
        "device = torch.device('cuda')"
      ],
      "id": "dbd7b72e"
    },
    {
      "cell_type": "code",
      "execution_count": null,
      "metadata": {
        "id": "797d014b"
      },
      "outputs": [],
      "source": [
        "model.cuda()"
      ],
      "id": "797d014b"
    },
    {
      "cell_type": "code",
      "execution_count": 68,
      "metadata": {
        "id": "b4bcd7a5"
      },
      "outputs": [],
      "source": [
        "dataset = TensorDataset(input_ids, attention_mask)\n",
        "\n",
        "\n",
        "train_dataloader = DataLoader(dataset, shuffle = True, batch_size =8)\n",
        "\n"
      ],
      "id": "b4bcd7a5"
    },
    {
      "cell_type": "code",
      "execution_count": 69,
      "metadata": {
        "id": "804a44fb",
        "colab": {
          "base_uri": "https://localhost:8080/"
        },
        "outputId": "6c8cfb7a-15e3-488c-f36c-53f6fe772109"
      },
      "outputs": [
        {
          "output_type": "stream",
          "name": "stderr",
          "text": [
            "/usr/local/lib/python3.7/dist-packages/transformers/optimization.py:309: FutureWarning: This implementation of AdamW is deprecated and will be removed in a future version. Use the PyTorch implementation torch.optim.AdamW instead, or set `no_deprecation_warning=True` to disable this warning\n",
            "  FutureWarning,\n"
          ]
        }
      ],
      "source": [
        "epochs = 5\n",
        "total_steps = len(train_dataloader) * epochs\n",
        "warmup = total_steps*0.2\n",
        "\n",
        "optimizer = AdamW(model.parameters(), lr = 3e-5)\n",
        "sched = get_linear_schedule_with_warmup(optimizer,\n",
        "                              num_warmup_steps = warmup,\n",
        "                              num_training_steps = total_steps)\n"
      ],
      "id": "804a44fb"
    },
    {
      "cell_type": "code",
      "execution_count": 70,
      "metadata": {
        "id": "a06c46fc",
        "outputId": "7b36c419-4d32-42a3-d82d-7edc4a68e8e3",
        "colab": {
          "base_uri": "https://localhost:8080/"
        }
      },
      "outputs": [
        {
          "output_type": "stream",
          "name": "stderr",
          "text": [
            "Epoch 0: 100%|██████████| 3750/3750 [15:33<00:00,  4.02it/s, loss=3.35]\n",
            "Epoch 1: 100%|██████████| 3750/3750 [15:31<00:00,  4.02it/s, loss=3.37]\n",
            "Epoch 2: 100%|██████████| 3750/3750 [15:31<00:00,  4.02it/s, loss=2.45]\n",
            "Epoch 3: 100%|██████████| 3750/3750 [15:32<00:00,  4.02it/s, loss=1.47]\n",
            "Epoch 4: 100%|██████████| 3750/3750 [15:31<00:00,  4.02it/s, loss=0.82]\n"
          ]
        }
      ],
      "source": [
        "\n",
        "idx = 0\n",
        "for epoch in range(0, epochs):\n",
        "  loop = tqdm(train_dataloader,total = len(train_dataloader))\n",
        "  for batch in loop:\n",
        "      optimizer.zero_grad()\n",
        "      input_tensor = batch[0].to(device)\n",
        "      attention_mask = batch[1].to(device)\n",
        "\n",
        "      op = model(input_ids = input_tensor, attention_mask = attention_mask, labels = input_tensor)\n",
        "      loss = op[0]\n",
        "      loss.backward()\n",
        "      optimizer.step()\n",
        "\n",
        "      sched.step()\n",
        "      loop.set_description(f'Epoch {epoch}')\n",
        "      loop.set_postfix(loss= loss.item())\n",
        "\n",
        "    \n"
      ],
      "id": "a06c46fc"
    },
    {
      "cell_type": "code",
      "execution_count": 71,
      "metadata": {
        "id": "2fbabd3d"
      },
      "outputs": [],
      "source": [
        "model_name = 'GenerateByQafiya'\n",
        "model.save_pretrained('/content/drive/MyDrive/Barmagan/' +model_name)"
      ],
      "id": "2fbabd3d"
    },
    {
      "cell_type": "code",
      "execution_count": null,
      "metadata": {
        "id": "8a61f211"
      },
      "outputs": [],
      "source": [
        "test_batch = next(iter(test_dataloader))\n",
        "test_input = test_batch[0]"
      ],
      "id": "8a61f211"
    },
    {
      "cell_type": "code",
      "execution_count": 74,
      "metadata": {
        "id": "7bb4d1c3",
        "outputId": "b62e2d34-c498-477e-a8a2-cdbb15a31ba7",
        "colab": {
          "base_uri": "https://localhost:8080/"
        }
      },
      "outputs": [
        {
          "output_type": "stream",
          "name": "stderr",
          "text": [
            "Setting `pad_token_id` to `eos_token_id`:0 for open-end generation.\n"
          ]
        }
      ],
      "source": [
        "prompt = '<|endoftext|> ا  <|endoftext|>'\n",
        "encoded_prompt = tokenizer.encode(prompt, return_tensors = 'pt').to(device)\n",
        "text = model.generate(encoded_prompt, max_length= 50, repetition_penalty = 4.0)\n",
        "generated_text = tokenizer.decode(text[0], skip_special_tokens = False)"
      ],
      "id": "7bb4d1c3"
    },
    {
      "cell_type": "code",
      "execution_count": 75,
      "metadata": {
        "id": "af9e5aa6",
        "outputId": "99df0caf-1d6e-4584-de2b-46e38a68f9ed",
        "scrolled": true,
        "colab": {
          "base_uri": "https://localhost:8080/"
        }
      },
      "outputs": [
        {
          "output_type": "stream",
          "name": "stdout",
          "text": [
            "<|endoftext|> ا  <|endoftext|>[PAD] الرزق المليكبه الملك المقتدىمن اتقى الله وليا[NEWLINE]والحمد في المكرمات من احرار ماكثنا به الهدباالمننشر الحقبلا رتقابا نبته فركب ربابه التربأ\n"
          ]
        }
      ],
      "source": [
        "print(generated_text)"
      ],
      "id": "af9e5aa6"
    },
    {
      "cell_type": "code",
      "source": [
        ""
      ],
      "metadata": {
        "id": "KBRecZHRtZAc"
      },
      "id": "KBRecZHRtZAc",
      "execution_count": null,
      "outputs": []
    },
    {
      "cell_type": "code",
      "source": [
        ""
      ],
      "metadata": {
        "id": "OAvVnLNI09lk"
      },
      "id": "OAvVnLNI09lk",
      "execution_count": null,
      "outputs": []
    }
  ],
  "metadata": {
    "colab": {
      "name": "qafiyapoetry_generation.ipynb",
      "provenance": [],
      "collapsed_sections": []
    },
    "kernelspec": {
      "display_name": "Python 3 (ipykernel)",
      "language": "python",
      "name": "python3"
    },
    "language_info": {
      "codemirror_mode": {
        "name": "ipython",
        "version": 3
      },
      "file_extension": ".py",
      "mimetype": "text/x-python",
      "name": "python",
      "nbconvert_exporter": "python",
      "pygments_lexer": "ipython3",
      "version": "3.8.10"
    },
    "accelerator": "GPU",
    "widgets": {
      "application/vnd.jupyter.widget-state+json": {
        "9b791da2088042c5bf5c91e764e51ef1": {
          "model_module": "@jupyter-widgets/controls",
          "model_name": "HBoxModel",
          "model_module_version": "1.5.0",
          "state": {
            "_dom_classes": [],
            "_model_module": "@jupyter-widgets/controls",
            "_model_module_version": "1.5.0",
            "_model_name": "HBoxModel",
            "_view_count": null,
            "_view_module": "@jupyter-widgets/controls",
            "_view_module_version": "1.5.0",
            "_view_name": "HBoxView",
            "box_style": "",
            "children": [
              "IPY_MODEL_2290728371314aee9fa88cf9e1d2fff6",
              "IPY_MODEL_3c154f4756bf49bb832d1e9469554b5c",
              "IPY_MODEL_b1f1dd822de74d98bbe6ad514d9e4469"
            ],
            "layout": "IPY_MODEL_8a63d0b247494b8b9f13542087f26c46"
          }
        },
        "2290728371314aee9fa88cf9e1d2fff6": {
          "model_module": "@jupyter-widgets/controls",
          "model_name": "HTMLModel",
          "model_module_version": "1.5.0",
          "state": {
            "_dom_classes": [],
            "_model_module": "@jupyter-widgets/controls",
            "_model_module_version": "1.5.0",
            "_model_name": "HTMLModel",
            "_view_count": null,
            "_view_module": "@jupyter-widgets/controls",
            "_view_module_version": "1.5.0",
            "_view_name": "HTMLView",
            "description": "",
            "description_tooltip": null,
            "layout": "IPY_MODEL_79c51bd2acb5438fad88153454b94eb0",
            "placeholder": "​",
            "style": "IPY_MODEL_a9897e4bb78345bc8d8f304a03ac7511",
            "value": "Downloading: 100%"
          }
        },
        "3c154f4756bf49bb832d1e9469554b5c": {
          "model_module": "@jupyter-widgets/controls",
          "model_name": "FloatProgressModel",
          "model_module_version": "1.5.0",
          "state": {
            "_dom_classes": [],
            "_model_module": "@jupyter-widgets/controls",
            "_model_module_version": "1.5.0",
            "_model_name": "FloatProgressModel",
            "_view_count": null,
            "_view_module": "@jupyter-widgets/controls",
            "_view_module_version": "1.5.0",
            "_view_name": "ProgressView",
            "bar_style": "success",
            "description": "",
            "description_tooltip": null,
            "layout": "IPY_MODEL_44f7e383ac9947b2bde47d8899f7ada6",
            "max": 1935314,
            "min": 0,
            "orientation": "horizontal",
            "style": "IPY_MODEL_e98a9da413024ed8be6fa9f048dd1ce1",
            "value": 1935314
          }
        },
        "b1f1dd822de74d98bbe6ad514d9e4469": {
          "model_module": "@jupyter-widgets/controls",
          "model_name": "HTMLModel",
          "model_module_version": "1.5.0",
          "state": {
            "_dom_classes": [],
            "_model_module": "@jupyter-widgets/controls",
            "_model_module_version": "1.5.0",
            "_model_name": "HTMLModel",
            "_view_count": null,
            "_view_module": "@jupyter-widgets/controls",
            "_view_module_version": "1.5.0",
            "_view_name": "HTMLView",
            "description": "",
            "description_tooltip": null,
            "layout": "IPY_MODEL_8e937dceee384946b0278a1ee729bc7c",
            "placeholder": "​",
            "style": "IPY_MODEL_204f16bf5b434ff8a8dbb63cbaa41dd6",
            "value": " 1.85M/1.85M [00:00&lt;00:00, 3.10MB/s]"
          }
        },
        "8a63d0b247494b8b9f13542087f26c46": {
          "model_module": "@jupyter-widgets/base",
          "model_name": "LayoutModel",
          "model_module_version": "1.2.0",
          "state": {
            "_model_module": "@jupyter-widgets/base",
            "_model_module_version": "1.2.0",
            "_model_name": "LayoutModel",
            "_view_count": null,
            "_view_module": "@jupyter-widgets/base",
            "_view_module_version": "1.2.0",
            "_view_name": "LayoutView",
            "align_content": null,
            "align_items": null,
            "align_self": null,
            "border": null,
            "bottom": null,
            "display": null,
            "flex": null,
            "flex_flow": null,
            "grid_area": null,
            "grid_auto_columns": null,
            "grid_auto_flow": null,
            "grid_auto_rows": null,
            "grid_column": null,
            "grid_gap": null,
            "grid_row": null,
            "grid_template_areas": null,
            "grid_template_columns": null,
            "grid_template_rows": null,
            "height": null,
            "justify_content": null,
            "justify_items": null,
            "left": null,
            "margin": null,
            "max_height": null,
            "max_width": null,
            "min_height": null,
            "min_width": null,
            "object_fit": null,
            "object_position": null,
            "order": null,
            "overflow": null,
            "overflow_x": null,
            "overflow_y": null,
            "padding": null,
            "right": null,
            "top": null,
            "visibility": null,
            "width": null
          }
        },
        "79c51bd2acb5438fad88153454b94eb0": {
          "model_module": "@jupyter-widgets/base",
          "model_name": "LayoutModel",
          "model_module_version": "1.2.0",
          "state": {
            "_model_module": "@jupyter-widgets/base",
            "_model_module_version": "1.2.0",
            "_model_name": "LayoutModel",
            "_view_count": null,
            "_view_module": "@jupyter-widgets/base",
            "_view_module_version": "1.2.0",
            "_view_name": "LayoutView",
            "align_content": null,
            "align_items": null,
            "align_self": null,
            "border": null,
            "bottom": null,
            "display": null,
            "flex": null,
            "flex_flow": null,
            "grid_area": null,
            "grid_auto_columns": null,
            "grid_auto_flow": null,
            "grid_auto_rows": null,
            "grid_column": null,
            "grid_gap": null,
            "grid_row": null,
            "grid_template_areas": null,
            "grid_template_columns": null,
            "grid_template_rows": null,
            "height": null,
            "justify_content": null,
            "justify_items": null,
            "left": null,
            "margin": null,
            "max_height": null,
            "max_width": null,
            "min_height": null,
            "min_width": null,
            "object_fit": null,
            "object_position": null,
            "order": null,
            "overflow": null,
            "overflow_x": null,
            "overflow_y": null,
            "padding": null,
            "right": null,
            "top": null,
            "visibility": null,
            "width": null
          }
        },
        "a9897e4bb78345bc8d8f304a03ac7511": {
          "model_module": "@jupyter-widgets/controls",
          "model_name": "DescriptionStyleModel",
          "model_module_version": "1.5.0",
          "state": {
            "_model_module": "@jupyter-widgets/controls",
            "_model_module_version": "1.5.0",
            "_model_name": "DescriptionStyleModel",
            "_view_count": null,
            "_view_module": "@jupyter-widgets/base",
            "_view_module_version": "1.2.0",
            "_view_name": "StyleView",
            "description_width": ""
          }
        },
        "44f7e383ac9947b2bde47d8899f7ada6": {
          "model_module": "@jupyter-widgets/base",
          "model_name": "LayoutModel",
          "model_module_version": "1.2.0",
          "state": {
            "_model_module": "@jupyter-widgets/base",
            "_model_module_version": "1.2.0",
            "_model_name": "LayoutModel",
            "_view_count": null,
            "_view_module": "@jupyter-widgets/base",
            "_view_module_version": "1.2.0",
            "_view_name": "LayoutView",
            "align_content": null,
            "align_items": null,
            "align_self": null,
            "border": null,
            "bottom": null,
            "display": null,
            "flex": null,
            "flex_flow": null,
            "grid_area": null,
            "grid_auto_columns": null,
            "grid_auto_flow": null,
            "grid_auto_rows": null,
            "grid_column": null,
            "grid_gap": null,
            "grid_row": null,
            "grid_template_areas": null,
            "grid_template_columns": null,
            "grid_template_rows": null,
            "height": null,
            "justify_content": null,
            "justify_items": null,
            "left": null,
            "margin": null,
            "max_height": null,
            "max_width": null,
            "min_height": null,
            "min_width": null,
            "object_fit": null,
            "object_position": null,
            "order": null,
            "overflow": null,
            "overflow_x": null,
            "overflow_y": null,
            "padding": null,
            "right": null,
            "top": null,
            "visibility": null,
            "width": null
          }
        },
        "e98a9da413024ed8be6fa9f048dd1ce1": {
          "model_module": "@jupyter-widgets/controls",
          "model_name": "ProgressStyleModel",
          "model_module_version": "1.5.0",
          "state": {
            "_model_module": "@jupyter-widgets/controls",
            "_model_module_version": "1.5.0",
            "_model_name": "ProgressStyleModel",
            "_view_count": null,
            "_view_module": "@jupyter-widgets/base",
            "_view_module_version": "1.2.0",
            "_view_name": "StyleView",
            "bar_color": null,
            "description_width": ""
          }
        },
        "8e937dceee384946b0278a1ee729bc7c": {
          "model_module": "@jupyter-widgets/base",
          "model_name": "LayoutModel",
          "model_module_version": "1.2.0",
          "state": {
            "_model_module": "@jupyter-widgets/base",
            "_model_module_version": "1.2.0",
            "_model_name": "LayoutModel",
            "_view_count": null,
            "_view_module": "@jupyter-widgets/base",
            "_view_module_version": "1.2.0",
            "_view_name": "LayoutView",
            "align_content": null,
            "align_items": null,
            "align_self": null,
            "border": null,
            "bottom": null,
            "display": null,
            "flex": null,
            "flex_flow": null,
            "grid_area": null,
            "grid_auto_columns": null,
            "grid_auto_flow": null,
            "grid_auto_rows": null,
            "grid_column": null,
            "grid_gap": null,
            "grid_row": null,
            "grid_template_areas": null,
            "grid_template_columns": null,
            "grid_template_rows": null,
            "height": null,
            "justify_content": null,
            "justify_items": null,
            "left": null,
            "margin": null,
            "max_height": null,
            "max_width": null,
            "min_height": null,
            "min_width": null,
            "object_fit": null,
            "object_position": null,
            "order": null,
            "overflow": null,
            "overflow_x": null,
            "overflow_y": null,
            "padding": null,
            "right": null,
            "top": null,
            "visibility": null,
            "width": null
          }
        },
        "204f16bf5b434ff8a8dbb63cbaa41dd6": {
          "model_module": "@jupyter-widgets/controls",
          "model_name": "DescriptionStyleModel",
          "model_module_version": "1.5.0",
          "state": {
            "_model_module": "@jupyter-widgets/controls",
            "_model_module_version": "1.5.0",
            "_model_name": "DescriptionStyleModel",
            "_view_count": null,
            "_view_module": "@jupyter-widgets/base",
            "_view_module_version": "1.2.0",
            "_view_name": "StyleView",
            "description_width": ""
          }
        },
        "886a5a7fa211477ca8c9a9070e082f26": {
          "model_module": "@jupyter-widgets/controls",
          "model_name": "HBoxModel",
          "model_module_version": "1.5.0",
          "state": {
            "_dom_classes": [],
            "_model_module": "@jupyter-widgets/controls",
            "_model_module_version": "1.5.0",
            "_model_name": "HBoxModel",
            "_view_count": null,
            "_view_module": "@jupyter-widgets/controls",
            "_view_module_version": "1.5.0",
            "_view_name": "HBoxView",
            "box_style": "",
            "children": [
              "IPY_MODEL_9e684ed8c34b402cabbf2b1261f64147",
              "IPY_MODEL_a306577427944a6f96216f2f9ac6694e",
              "IPY_MODEL_38b1cc7b705b402ca6e48c1a261cfe44"
            ],
            "layout": "IPY_MODEL_ff0709c70be442b49ef1dadcfe5a5da6"
          }
        },
        "9e684ed8c34b402cabbf2b1261f64147": {
          "model_module": "@jupyter-widgets/controls",
          "model_name": "HTMLModel",
          "model_module_version": "1.5.0",
          "state": {
            "_dom_classes": [],
            "_model_module": "@jupyter-widgets/controls",
            "_model_module_version": "1.5.0",
            "_model_name": "HTMLModel",
            "_view_count": null,
            "_view_module": "@jupyter-widgets/controls",
            "_view_module_version": "1.5.0",
            "_view_name": "HTMLView",
            "description": "",
            "description_tooltip": null,
            "layout": "IPY_MODEL_9ef7e9d16f6b423d8e8ddf37528f2994",
            "placeholder": "​",
            "style": "IPY_MODEL_0fc14d63b10349e2879f5ce4060548ff",
            "value": "Downloading: 100%"
          }
        },
        "a306577427944a6f96216f2f9ac6694e": {
          "model_module": "@jupyter-widgets/controls",
          "model_name": "FloatProgressModel",
          "model_module_version": "1.5.0",
          "state": {
            "_dom_classes": [],
            "_model_module": "@jupyter-widgets/controls",
            "_model_module_version": "1.5.0",
            "_model_name": "FloatProgressModel",
            "_view_count": null,
            "_view_module": "@jupyter-widgets/controls",
            "_view_module_version": "1.5.0",
            "_view_name": "ProgressView",
            "bar_style": "success",
            "description": "",
            "description_tooltip": null,
            "layout": "IPY_MODEL_571fdf78111f4e4bab4381fd4a677173",
            "max": 1497508,
            "min": 0,
            "orientation": "horizontal",
            "style": "IPY_MODEL_605c7e8453bf44eb8f94a579b63e1f69",
            "value": 1497508
          }
        },
        "38b1cc7b705b402ca6e48c1a261cfe44": {
          "model_module": "@jupyter-widgets/controls",
          "model_name": "HTMLModel",
          "model_module_version": "1.5.0",
          "state": {
            "_dom_classes": [],
            "_model_module": "@jupyter-widgets/controls",
            "_model_module_version": "1.5.0",
            "_model_name": "HTMLModel",
            "_view_count": null,
            "_view_module": "@jupyter-widgets/controls",
            "_view_module_version": "1.5.0",
            "_view_name": "HTMLView",
            "description": "",
            "description_tooltip": null,
            "layout": "IPY_MODEL_4a9e696541e8476a904396b6f5e12e09",
            "placeholder": "​",
            "style": "IPY_MODEL_ea57a6ecd0f9460ca9b9aebe2cbb8d46",
            "value": " 1.43M/1.43M [00:00&lt;00:00, 3.05MB/s]"
          }
        },
        "ff0709c70be442b49ef1dadcfe5a5da6": {
          "model_module": "@jupyter-widgets/base",
          "model_name": "LayoutModel",
          "model_module_version": "1.2.0",
          "state": {
            "_model_module": "@jupyter-widgets/base",
            "_model_module_version": "1.2.0",
            "_model_name": "LayoutModel",
            "_view_count": null,
            "_view_module": "@jupyter-widgets/base",
            "_view_module_version": "1.2.0",
            "_view_name": "LayoutView",
            "align_content": null,
            "align_items": null,
            "align_self": null,
            "border": null,
            "bottom": null,
            "display": null,
            "flex": null,
            "flex_flow": null,
            "grid_area": null,
            "grid_auto_columns": null,
            "grid_auto_flow": null,
            "grid_auto_rows": null,
            "grid_column": null,
            "grid_gap": null,
            "grid_row": null,
            "grid_template_areas": null,
            "grid_template_columns": null,
            "grid_template_rows": null,
            "height": null,
            "justify_content": null,
            "justify_items": null,
            "left": null,
            "margin": null,
            "max_height": null,
            "max_width": null,
            "min_height": null,
            "min_width": null,
            "object_fit": null,
            "object_position": null,
            "order": null,
            "overflow": null,
            "overflow_x": null,
            "overflow_y": null,
            "padding": null,
            "right": null,
            "top": null,
            "visibility": null,
            "width": null
          }
        },
        "9ef7e9d16f6b423d8e8ddf37528f2994": {
          "model_module": "@jupyter-widgets/base",
          "model_name": "LayoutModel",
          "model_module_version": "1.2.0",
          "state": {
            "_model_module": "@jupyter-widgets/base",
            "_model_module_version": "1.2.0",
            "_model_name": "LayoutModel",
            "_view_count": null,
            "_view_module": "@jupyter-widgets/base",
            "_view_module_version": "1.2.0",
            "_view_name": "LayoutView",
            "align_content": null,
            "align_items": null,
            "align_self": null,
            "border": null,
            "bottom": null,
            "display": null,
            "flex": null,
            "flex_flow": null,
            "grid_area": null,
            "grid_auto_columns": null,
            "grid_auto_flow": null,
            "grid_auto_rows": null,
            "grid_column": null,
            "grid_gap": null,
            "grid_row": null,
            "grid_template_areas": null,
            "grid_template_columns": null,
            "grid_template_rows": null,
            "height": null,
            "justify_content": null,
            "justify_items": null,
            "left": null,
            "margin": null,
            "max_height": null,
            "max_width": null,
            "min_height": null,
            "min_width": null,
            "object_fit": null,
            "object_position": null,
            "order": null,
            "overflow": null,
            "overflow_x": null,
            "overflow_y": null,
            "padding": null,
            "right": null,
            "top": null,
            "visibility": null,
            "width": null
          }
        },
        "0fc14d63b10349e2879f5ce4060548ff": {
          "model_module": "@jupyter-widgets/controls",
          "model_name": "DescriptionStyleModel",
          "model_module_version": "1.5.0",
          "state": {
            "_model_module": "@jupyter-widgets/controls",
            "_model_module_version": "1.5.0",
            "_model_name": "DescriptionStyleModel",
            "_view_count": null,
            "_view_module": "@jupyter-widgets/base",
            "_view_module_version": "1.2.0",
            "_view_name": "StyleView",
            "description_width": ""
          }
        },
        "571fdf78111f4e4bab4381fd4a677173": {
          "model_module": "@jupyter-widgets/base",
          "model_name": "LayoutModel",
          "model_module_version": "1.2.0",
          "state": {
            "_model_module": "@jupyter-widgets/base",
            "_model_module_version": "1.2.0",
            "_model_name": "LayoutModel",
            "_view_count": null,
            "_view_module": "@jupyter-widgets/base",
            "_view_module_version": "1.2.0",
            "_view_name": "LayoutView",
            "align_content": null,
            "align_items": null,
            "align_self": null,
            "border": null,
            "bottom": null,
            "display": null,
            "flex": null,
            "flex_flow": null,
            "grid_area": null,
            "grid_auto_columns": null,
            "grid_auto_flow": null,
            "grid_auto_rows": null,
            "grid_column": null,
            "grid_gap": null,
            "grid_row": null,
            "grid_template_areas": null,
            "grid_template_columns": null,
            "grid_template_rows": null,
            "height": null,
            "justify_content": null,
            "justify_items": null,
            "left": null,
            "margin": null,
            "max_height": null,
            "max_width": null,
            "min_height": null,
            "min_width": null,
            "object_fit": null,
            "object_position": null,
            "order": null,
            "overflow": null,
            "overflow_x": null,
            "overflow_y": null,
            "padding": null,
            "right": null,
            "top": null,
            "visibility": null,
            "width": null
          }
        },
        "605c7e8453bf44eb8f94a579b63e1f69": {
          "model_module": "@jupyter-widgets/controls",
          "model_name": "ProgressStyleModel",
          "model_module_version": "1.5.0",
          "state": {
            "_model_module": "@jupyter-widgets/controls",
            "_model_module_version": "1.5.0",
            "_model_name": "ProgressStyleModel",
            "_view_count": null,
            "_view_module": "@jupyter-widgets/base",
            "_view_module_version": "1.2.0",
            "_view_name": "StyleView",
            "bar_color": null,
            "description_width": ""
          }
        },
        "4a9e696541e8476a904396b6f5e12e09": {
          "model_module": "@jupyter-widgets/base",
          "model_name": "LayoutModel",
          "model_module_version": "1.2.0",
          "state": {
            "_model_module": "@jupyter-widgets/base",
            "_model_module_version": "1.2.0",
            "_model_name": "LayoutModel",
            "_view_count": null,
            "_view_module": "@jupyter-widgets/base",
            "_view_module_version": "1.2.0",
            "_view_name": "LayoutView",
            "align_content": null,
            "align_items": null,
            "align_self": null,
            "border": null,
            "bottom": null,
            "display": null,
            "flex": null,
            "flex_flow": null,
            "grid_area": null,
            "grid_auto_columns": null,
            "grid_auto_flow": null,
            "grid_auto_rows": null,
            "grid_column": null,
            "grid_gap": null,
            "grid_row": null,
            "grid_template_areas": null,
            "grid_template_columns": null,
            "grid_template_rows": null,
            "height": null,
            "justify_content": null,
            "justify_items": null,
            "left": null,
            "margin": null,
            "max_height": null,
            "max_width": null,
            "min_height": null,
            "min_width": null,
            "object_fit": null,
            "object_position": null,
            "order": null,
            "overflow": null,
            "overflow_x": null,
            "overflow_y": null,
            "padding": null,
            "right": null,
            "top": null,
            "visibility": null,
            "width": null
          }
        },
        "ea57a6ecd0f9460ca9b9aebe2cbb8d46": {
          "model_module": "@jupyter-widgets/controls",
          "model_name": "DescriptionStyleModel",
          "model_module_version": "1.5.0",
          "state": {
            "_model_module": "@jupyter-widgets/controls",
            "_model_module_version": "1.5.0",
            "_model_name": "DescriptionStyleModel",
            "_view_count": null,
            "_view_module": "@jupyter-widgets/base",
            "_view_module_version": "1.2.0",
            "_view_name": "StyleView",
            "description_width": ""
          }
        },
        "1752c87170cf41faa58c2ed6d46f0198": {
          "model_module": "@jupyter-widgets/controls",
          "model_name": "HBoxModel",
          "model_module_version": "1.5.0",
          "state": {
            "_dom_classes": [],
            "_model_module": "@jupyter-widgets/controls",
            "_model_module_version": "1.5.0",
            "_model_name": "HBoxModel",
            "_view_count": null,
            "_view_module": "@jupyter-widgets/controls",
            "_view_module_version": "1.5.0",
            "_view_name": "HBoxView",
            "box_style": "",
            "children": [
              "IPY_MODEL_46f866f56ecb4ba38f05e09ed00b8751",
              "IPY_MODEL_0aa0599e22284c17aa14f58e87e77fb7",
              "IPY_MODEL_45a8c51a30f94d1a84ea9e7c5c161329"
            ],
            "layout": "IPY_MODEL_93bc5e580da9488b8e70269b9dd17a7c"
          }
        },
        "46f866f56ecb4ba38f05e09ed00b8751": {
          "model_module": "@jupyter-widgets/controls",
          "model_name": "HTMLModel",
          "model_module_version": "1.5.0",
          "state": {
            "_dom_classes": [],
            "_model_module": "@jupyter-widgets/controls",
            "_model_module_version": "1.5.0",
            "_model_name": "HTMLModel",
            "_view_count": null,
            "_view_module": "@jupyter-widgets/controls",
            "_view_module_version": "1.5.0",
            "_view_name": "HTMLView",
            "description": "",
            "description_tooltip": null,
            "layout": "IPY_MODEL_4899b231b0074c0cbf479ca088b916e9",
            "placeholder": "​",
            "style": "IPY_MODEL_e7b143dfa3554277ab5c76dc793088fa",
            "value": "Downloading: 100%"
          }
        },
        "0aa0599e22284c17aa14f58e87e77fb7": {
          "model_module": "@jupyter-widgets/controls",
          "model_name": "FloatProgressModel",
          "model_module_version": "1.5.0",
          "state": {
            "_dom_classes": [],
            "_model_module": "@jupyter-widgets/controls",
            "_model_module_version": "1.5.0",
            "_model_name": "FloatProgressModel",
            "_view_count": null,
            "_view_module": "@jupyter-widgets/controls",
            "_view_module_version": "1.5.0",
            "_view_name": "ProgressView",
            "bar_style": "success",
            "description": "",
            "description_tooltip": null,
            "layout": "IPY_MODEL_7dba7f71f0774828b162ef0b23205aa3",
            "max": 4519765,
            "min": 0,
            "orientation": "horizontal",
            "style": "IPY_MODEL_d987a3ecc2754c37b40efc9ed29c3b43",
            "value": 4519765
          }
        },
        "45a8c51a30f94d1a84ea9e7c5c161329": {
          "model_module": "@jupyter-widgets/controls",
          "model_name": "HTMLModel",
          "model_module_version": "1.5.0",
          "state": {
            "_dom_classes": [],
            "_model_module": "@jupyter-widgets/controls",
            "_model_module_version": "1.5.0",
            "_model_name": "HTMLModel",
            "_view_count": null,
            "_view_module": "@jupyter-widgets/controls",
            "_view_module_version": "1.5.0",
            "_view_name": "HTMLView",
            "description": "",
            "description_tooltip": null,
            "layout": "IPY_MODEL_d17b7dcde1ae48b38a737eea65d00b66",
            "placeholder": "​",
            "style": "IPY_MODEL_e71bd211c34d4e15830f03f7216ecf5e",
            "value": " 4.31M/4.31M [00:00&lt;00:00, 10.7MB/s]"
          }
        },
        "93bc5e580da9488b8e70269b9dd17a7c": {
          "model_module": "@jupyter-widgets/base",
          "model_name": "LayoutModel",
          "model_module_version": "1.2.0",
          "state": {
            "_model_module": "@jupyter-widgets/base",
            "_model_module_version": "1.2.0",
            "_model_name": "LayoutModel",
            "_view_count": null,
            "_view_module": "@jupyter-widgets/base",
            "_view_module_version": "1.2.0",
            "_view_name": "LayoutView",
            "align_content": null,
            "align_items": null,
            "align_self": null,
            "border": null,
            "bottom": null,
            "display": null,
            "flex": null,
            "flex_flow": null,
            "grid_area": null,
            "grid_auto_columns": null,
            "grid_auto_flow": null,
            "grid_auto_rows": null,
            "grid_column": null,
            "grid_gap": null,
            "grid_row": null,
            "grid_template_areas": null,
            "grid_template_columns": null,
            "grid_template_rows": null,
            "height": null,
            "justify_content": null,
            "justify_items": null,
            "left": null,
            "margin": null,
            "max_height": null,
            "max_width": null,
            "min_height": null,
            "min_width": null,
            "object_fit": null,
            "object_position": null,
            "order": null,
            "overflow": null,
            "overflow_x": null,
            "overflow_y": null,
            "padding": null,
            "right": null,
            "top": null,
            "visibility": null,
            "width": null
          }
        },
        "4899b231b0074c0cbf479ca088b916e9": {
          "model_module": "@jupyter-widgets/base",
          "model_name": "LayoutModel",
          "model_module_version": "1.2.0",
          "state": {
            "_model_module": "@jupyter-widgets/base",
            "_model_module_version": "1.2.0",
            "_model_name": "LayoutModel",
            "_view_count": null,
            "_view_module": "@jupyter-widgets/base",
            "_view_module_version": "1.2.0",
            "_view_name": "LayoutView",
            "align_content": null,
            "align_items": null,
            "align_self": null,
            "border": null,
            "bottom": null,
            "display": null,
            "flex": null,
            "flex_flow": null,
            "grid_area": null,
            "grid_auto_columns": null,
            "grid_auto_flow": null,
            "grid_auto_rows": null,
            "grid_column": null,
            "grid_gap": null,
            "grid_row": null,
            "grid_template_areas": null,
            "grid_template_columns": null,
            "grid_template_rows": null,
            "height": null,
            "justify_content": null,
            "justify_items": null,
            "left": null,
            "margin": null,
            "max_height": null,
            "max_width": null,
            "min_height": null,
            "min_width": null,
            "object_fit": null,
            "object_position": null,
            "order": null,
            "overflow": null,
            "overflow_x": null,
            "overflow_y": null,
            "padding": null,
            "right": null,
            "top": null,
            "visibility": null,
            "width": null
          }
        },
        "e7b143dfa3554277ab5c76dc793088fa": {
          "model_module": "@jupyter-widgets/controls",
          "model_name": "DescriptionStyleModel",
          "model_module_version": "1.5.0",
          "state": {
            "_model_module": "@jupyter-widgets/controls",
            "_model_module_version": "1.5.0",
            "_model_name": "DescriptionStyleModel",
            "_view_count": null,
            "_view_module": "@jupyter-widgets/base",
            "_view_module_version": "1.2.0",
            "_view_name": "StyleView",
            "description_width": ""
          }
        },
        "7dba7f71f0774828b162ef0b23205aa3": {
          "model_module": "@jupyter-widgets/base",
          "model_name": "LayoutModel",
          "model_module_version": "1.2.0",
          "state": {
            "_model_module": "@jupyter-widgets/base",
            "_model_module_version": "1.2.0",
            "_model_name": "LayoutModel",
            "_view_count": null,
            "_view_module": "@jupyter-widgets/base",
            "_view_module_version": "1.2.0",
            "_view_name": "LayoutView",
            "align_content": null,
            "align_items": null,
            "align_self": null,
            "border": null,
            "bottom": null,
            "display": null,
            "flex": null,
            "flex_flow": null,
            "grid_area": null,
            "grid_auto_columns": null,
            "grid_auto_flow": null,
            "grid_auto_rows": null,
            "grid_column": null,
            "grid_gap": null,
            "grid_row": null,
            "grid_template_areas": null,
            "grid_template_columns": null,
            "grid_template_rows": null,
            "height": null,
            "justify_content": null,
            "justify_items": null,
            "left": null,
            "margin": null,
            "max_height": null,
            "max_width": null,
            "min_height": null,
            "min_width": null,
            "object_fit": null,
            "object_position": null,
            "order": null,
            "overflow": null,
            "overflow_x": null,
            "overflow_y": null,
            "padding": null,
            "right": null,
            "top": null,
            "visibility": null,
            "width": null
          }
        },
        "d987a3ecc2754c37b40efc9ed29c3b43": {
          "model_module": "@jupyter-widgets/controls",
          "model_name": "ProgressStyleModel",
          "model_module_version": "1.5.0",
          "state": {
            "_model_module": "@jupyter-widgets/controls",
            "_model_module_version": "1.5.0",
            "_model_name": "ProgressStyleModel",
            "_view_count": null,
            "_view_module": "@jupyter-widgets/base",
            "_view_module_version": "1.2.0",
            "_view_name": "StyleView",
            "bar_color": null,
            "description_width": ""
          }
        },
        "d17b7dcde1ae48b38a737eea65d00b66": {
          "model_module": "@jupyter-widgets/base",
          "model_name": "LayoutModel",
          "model_module_version": "1.2.0",
          "state": {
            "_model_module": "@jupyter-widgets/base",
            "_model_module_version": "1.2.0",
            "_model_name": "LayoutModel",
            "_view_count": null,
            "_view_module": "@jupyter-widgets/base",
            "_view_module_version": "1.2.0",
            "_view_name": "LayoutView",
            "align_content": null,
            "align_items": null,
            "align_self": null,
            "border": null,
            "bottom": null,
            "display": null,
            "flex": null,
            "flex_flow": null,
            "grid_area": null,
            "grid_auto_columns": null,
            "grid_auto_flow": null,
            "grid_auto_rows": null,
            "grid_column": null,
            "grid_gap": null,
            "grid_row": null,
            "grid_template_areas": null,
            "grid_template_columns": null,
            "grid_template_rows": null,
            "height": null,
            "justify_content": null,
            "justify_items": null,
            "left": null,
            "margin": null,
            "max_height": null,
            "max_width": null,
            "min_height": null,
            "min_width": null,
            "object_fit": null,
            "object_position": null,
            "order": null,
            "overflow": null,
            "overflow_x": null,
            "overflow_y": null,
            "padding": null,
            "right": null,
            "top": null,
            "visibility": null,
            "width": null
          }
        },
        "e71bd211c34d4e15830f03f7216ecf5e": {
          "model_module": "@jupyter-widgets/controls",
          "model_name": "DescriptionStyleModel",
          "model_module_version": "1.5.0",
          "state": {
            "_model_module": "@jupyter-widgets/controls",
            "_model_module_version": "1.5.0",
            "_model_name": "DescriptionStyleModel",
            "_view_count": null,
            "_view_module": "@jupyter-widgets/base",
            "_view_module_version": "1.2.0",
            "_view_name": "StyleView",
            "description_width": ""
          }
        },
        "45b6a6cc7e01419e83c6c0c692f974a3": {
          "model_module": "@jupyter-widgets/controls",
          "model_name": "HBoxModel",
          "model_module_version": "1.5.0",
          "state": {
            "_dom_classes": [],
            "_model_module": "@jupyter-widgets/controls",
            "_model_module_version": "1.5.0",
            "_model_name": "HBoxModel",
            "_view_count": null,
            "_view_module": "@jupyter-widgets/controls",
            "_view_module_version": "1.5.0",
            "_view_name": "HBoxView",
            "box_style": "",
            "children": [
              "IPY_MODEL_7a612a2373f24c84a7849d30180650a2",
              "IPY_MODEL_bac93a2d57514e7bacbe992c59f2a38f",
              "IPY_MODEL_5e2bc3a6ee9f47b7887fab64e6f83ee8"
            ],
            "layout": "IPY_MODEL_8f4db7158a0041bf990864bb1df7acf6"
          }
        },
        "7a612a2373f24c84a7849d30180650a2": {
          "model_module": "@jupyter-widgets/controls",
          "model_name": "HTMLModel",
          "model_module_version": "1.5.0",
          "state": {
            "_dom_classes": [],
            "_model_module": "@jupyter-widgets/controls",
            "_model_module_version": "1.5.0",
            "_model_name": "HTMLModel",
            "_view_count": null,
            "_view_module": "@jupyter-widgets/controls",
            "_view_module_version": "1.5.0",
            "_view_name": "HTMLView",
            "description": "",
            "description_tooltip": null,
            "layout": "IPY_MODEL_7229c1901a4a4abbbdfd39e5648c68ec",
            "placeholder": "​",
            "style": "IPY_MODEL_d4f2a7ed678a4639a24728a769231c0d",
            "value": "Downloading: 100%"
          }
        },
        "bac93a2d57514e7bacbe992c59f2a38f": {
          "model_module": "@jupyter-widgets/controls",
          "model_name": "FloatProgressModel",
          "model_module_version": "1.5.0",
          "state": {
            "_dom_classes": [],
            "_model_module": "@jupyter-widgets/controls",
            "_model_module_version": "1.5.0",
            "_model_name": "FloatProgressModel",
            "_view_count": null,
            "_view_module": "@jupyter-widgets/controls",
            "_view_module_version": "1.5.0",
            "_view_name": "ProgressView",
            "bar_style": "success",
            "description": "",
            "description_tooltip": null,
            "layout": "IPY_MODEL_ac370b3304e642a483264f2df2922519",
            "max": 843,
            "min": 0,
            "orientation": "horizontal",
            "style": "IPY_MODEL_b9585f1934994ecc87106966c08c22f5",
            "value": 843
          }
        },
        "5e2bc3a6ee9f47b7887fab64e6f83ee8": {
          "model_module": "@jupyter-widgets/controls",
          "model_name": "HTMLModel",
          "model_module_version": "1.5.0",
          "state": {
            "_dom_classes": [],
            "_model_module": "@jupyter-widgets/controls",
            "_model_module_version": "1.5.0",
            "_model_name": "HTMLModel",
            "_view_count": null,
            "_view_module": "@jupyter-widgets/controls",
            "_view_module_version": "1.5.0",
            "_view_name": "HTMLView",
            "description": "",
            "description_tooltip": null,
            "layout": "IPY_MODEL_f268b4bc2dfd4476baee725715ecfed1",
            "placeholder": "​",
            "style": "IPY_MODEL_6b2a35c6634f4b6d8badf8cc7e3e549d",
            "value": " 843/843 [00:00&lt;00:00, 23.6kB/s]"
          }
        },
        "8f4db7158a0041bf990864bb1df7acf6": {
          "model_module": "@jupyter-widgets/base",
          "model_name": "LayoutModel",
          "model_module_version": "1.2.0",
          "state": {
            "_model_module": "@jupyter-widgets/base",
            "_model_module_version": "1.2.0",
            "_model_name": "LayoutModel",
            "_view_count": null,
            "_view_module": "@jupyter-widgets/base",
            "_view_module_version": "1.2.0",
            "_view_name": "LayoutView",
            "align_content": null,
            "align_items": null,
            "align_self": null,
            "border": null,
            "bottom": null,
            "display": null,
            "flex": null,
            "flex_flow": null,
            "grid_area": null,
            "grid_auto_columns": null,
            "grid_auto_flow": null,
            "grid_auto_rows": null,
            "grid_column": null,
            "grid_gap": null,
            "grid_row": null,
            "grid_template_areas": null,
            "grid_template_columns": null,
            "grid_template_rows": null,
            "height": null,
            "justify_content": null,
            "justify_items": null,
            "left": null,
            "margin": null,
            "max_height": null,
            "max_width": null,
            "min_height": null,
            "min_width": null,
            "object_fit": null,
            "object_position": null,
            "order": null,
            "overflow": null,
            "overflow_x": null,
            "overflow_y": null,
            "padding": null,
            "right": null,
            "top": null,
            "visibility": null,
            "width": null
          }
        },
        "7229c1901a4a4abbbdfd39e5648c68ec": {
          "model_module": "@jupyter-widgets/base",
          "model_name": "LayoutModel",
          "model_module_version": "1.2.0",
          "state": {
            "_model_module": "@jupyter-widgets/base",
            "_model_module_version": "1.2.0",
            "_model_name": "LayoutModel",
            "_view_count": null,
            "_view_module": "@jupyter-widgets/base",
            "_view_module_version": "1.2.0",
            "_view_name": "LayoutView",
            "align_content": null,
            "align_items": null,
            "align_self": null,
            "border": null,
            "bottom": null,
            "display": null,
            "flex": null,
            "flex_flow": null,
            "grid_area": null,
            "grid_auto_columns": null,
            "grid_auto_flow": null,
            "grid_auto_rows": null,
            "grid_column": null,
            "grid_gap": null,
            "grid_row": null,
            "grid_template_areas": null,
            "grid_template_columns": null,
            "grid_template_rows": null,
            "height": null,
            "justify_content": null,
            "justify_items": null,
            "left": null,
            "margin": null,
            "max_height": null,
            "max_width": null,
            "min_height": null,
            "min_width": null,
            "object_fit": null,
            "object_position": null,
            "order": null,
            "overflow": null,
            "overflow_x": null,
            "overflow_y": null,
            "padding": null,
            "right": null,
            "top": null,
            "visibility": null,
            "width": null
          }
        },
        "d4f2a7ed678a4639a24728a769231c0d": {
          "model_module": "@jupyter-widgets/controls",
          "model_name": "DescriptionStyleModel",
          "model_module_version": "1.5.0",
          "state": {
            "_model_module": "@jupyter-widgets/controls",
            "_model_module_version": "1.5.0",
            "_model_name": "DescriptionStyleModel",
            "_view_count": null,
            "_view_module": "@jupyter-widgets/base",
            "_view_module_version": "1.2.0",
            "_view_name": "StyleView",
            "description_width": ""
          }
        },
        "ac370b3304e642a483264f2df2922519": {
          "model_module": "@jupyter-widgets/base",
          "model_name": "LayoutModel",
          "model_module_version": "1.2.0",
          "state": {
            "_model_module": "@jupyter-widgets/base",
            "_model_module_version": "1.2.0",
            "_model_name": "LayoutModel",
            "_view_count": null,
            "_view_module": "@jupyter-widgets/base",
            "_view_module_version": "1.2.0",
            "_view_name": "LayoutView",
            "align_content": null,
            "align_items": null,
            "align_self": null,
            "border": null,
            "bottom": null,
            "display": null,
            "flex": null,
            "flex_flow": null,
            "grid_area": null,
            "grid_auto_columns": null,
            "grid_auto_flow": null,
            "grid_auto_rows": null,
            "grid_column": null,
            "grid_gap": null,
            "grid_row": null,
            "grid_template_areas": null,
            "grid_template_columns": null,
            "grid_template_rows": null,
            "height": null,
            "justify_content": null,
            "justify_items": null,
            "left": null,
            "margin": null,
            "max_height": null,
            "max_width": null,
            "min_height": null,
            "min_width": null,
            "object_fit": null,
            "object_position": null,
            "order": null,
            "overflow": null,
            "overflow_x": null,
            "overflow_y": null,
            "padding": null,
            "right": null,
            "top": null,
            "visibility": null,
            "width": null
          }
        },
        "b9585f1934994ecc87106966c08c22f5": {
          "model_module": "@jupyter-widgets/controls",
          "model_name": "ProgressStyleModel",
          "model_module_version": "1.5.0",
          "state": {
            "_model_module": "@jupyter-widgets/controls",
            "_model_module_version": "1.5.0",
            "_model_name": "ProgressStyleModel",
            "_view_count": null,
            "_view_module": "@jupyter-widgets/base",
            "_view_module_version": "1.2.0",
            "_view_name": "StyleView",
            "bar_color": null,
            "description_width": ""
          }
        },
        "f268b4bc2dfd4476baee725715ecfed1": {
          "model_module": "@jupyter-widgets/base",
          "model_name": "LayoutModel",
          "model_module_version": "1.2.0",
          "state": {
            "_model_module": "@jupyter-widgets/base",
            "_model_module_version": "1.2.0",
            "_model_name": "LayoutModel",
            "_view_count": null,
            "_view_module": "@jupyter-widgets/base",
            "_view_module_version": "1.2.0",
            "_view_name": "LayoutView",
            "align_content": null,
            "align_items": null,
            "align_self": null,
            "border": null,
            "bottom": null,
            "display": null,
            "flex": null,
            "flex_flow": null,
            "grid_area": null,
            "grid_auto_columns": null,
            "grid_auto_flow": null,
            "grid_auto_rows": null,
            "grid_column": null,
            "grid_gap": null,
            "grid_row": null,
            "grid_template_areas": null,
            "grid_template_columns": null,
            "grid_template_rows": null,
            "height": null,
            "justify_content": null,
            "justify_items": null,
            "left": null,
            "margin": null,
            "max_height": null,
            "max_width": null,
            "min_height": null,
            "min_width": null,
            "object_fit": null,
            "object_position": null,
            "order": null,
            "overflow": null,
            "overflow_x": null,
            "overflow_y": null,
            "padding": null,
            "right": null,
            "top": null,
            "visibility": null,
            "width": null
          }
        },
        "6b2a35c6634f4b6d8badf8cc7e3e549d": {
          "model_module": "@jupyter-widgets/controls",
          "model_name": "DescriptionStyleModel",
          "model_module_version": "1.5.0",
          "state": {
            "_model_module": "@jupyter-widgets/controls",
            "_model_module_version": "1.5.0",
            "_model_name": "DescriptionStyleModel",
            "_view_count": null,
            "_view_module": "@jupyter-widgets/base",
            "_view_module_version": "1.2.0",
            "_view_name": "StyleView",
            "description_width": ""
          }
        },
        "44537d5c2fa2412bb07f9c0c59515ac4": {
          "model_module": "@jupyter-widgets/controls",
          "model_name": "HBoxModel",
          "model_module_version": "1.5.0",
          "state": {
            "_dom_classes": [],
            "_model_module": "@jupyter-widgets/controls",
            "_model_module_version": "1.5.0",
            "_model_name": "HBoxModel",
            "_view_count": null,
            "_view_module": "@jupyter-widgets/controls",
            "_view_module_version": "1.5.0",
            "_view_name": "HBoxView",
            "box_style": "",
            "children": [
              "IPY_MODEL_52dc76a0ff8547fca42b341deb144da8",
              "IPY_MODEL_428eb7e765e44309a5b5e2875db0e32b",
              "IPY_MODEL_88cee10d463a414ca854d806edbefbc5"
            ],
            "layout": "IPY_MODEL_28007774e5ca473da771987f6da527c8"
          }
        },
        "52dc76a0ff8547fca42b341deb144da8": {
          "model_module": "@jupyter-widgets/controls",
          "model_name": "HTMLModel",
          "model_module_version": "1.5.0",
          "state": {
            "_dom_classes": [],
            "_model_module": "@jupyter-widgets/controls",
            "_model_module_version": "1.5.0",
            "_model_name": "HTMLModel",
            "_view_count": null,
            "_view_module": "@jupyter-widgets/controls",
            "_view_module_version": "1.5.0",
            "_view_name": "HTMLView",
            "description": "",
            "description_tooltip": null,
            "layout": "IPY_MODEL_9eef8bf8975841ff8c43f8ad27c4466d",
            "placeholder": "​",
            "style": "IPY_MODEL_213a1ba66daa4ef5b7f1003c2e08de4b",
            "value": "Downloading: 100%"
          }
        },
        "428eb7e765e44309a5b5e2875db0e32b": {
          "model_module": "@jupyter-widgets/controls",
          "model_name": "FloatProgressModel",
          "model_module_version": "1.5.0",
          "state": {
            "_dom_classes": [],
            "_model_module": "@jupyter-widgets/controls",
            "_model_module_version": "1.5.0",
            "_model_name": "FloatProgressModel",
            "_view_count": null,
            "_view_module": "@jupyter-widgets/controls",
            "_view_module_version": "1.5.0",
            "_view_name": "ProgressView",
            "bar_style": "success",
            "description": "",
            "description_tooltip": null,
            "layout": "IPY_MODEL_b570e7fa7f134b15b8dfbf5919a73e2c",
            "max": 1500864893,
            "min": 0,
            "orientation": "horizontal",
            "style": "IPY_MODEL_d5b3564046b94bcd9bea51ea4b705630",
            "value": 1500864893
          }
        },
        "88cee10d463a414ca854d806edbefbc5": {
          "model_module": "@jupyter-widgets/controls",
          "model_name": "HTMLModel",
          "model_module_version": "1.5.0",
          "state": {
            "_dom_classes": [],
            "_model_module": "@jupyter-widgets/controls",
            "_model_module_version": "1.5.0",
            "_model_name": "HTMLModel",
            "_view_count": null,
            "_view_module": "@jupyter-widgets/controls",
            "_view_module_version": "1.5.0",
            "_view_name": "HTMLView",
            "description": "",
            "description_tooltip": null,
            "layout": "IPY_MODEL_a6257751441f472280a86a62bfc8b5e6",
            "placeholder": "​",
            "style": "IPY_MODEL_1fa5bb7c33144befa53c7763efa36219",
            "value": " 1.40G/1.40G [00:30&lt;00:00, 62.3MB/s]"
          }
        },
        "28007774e5ca473da771987f6da527c8": {
          "model_module": "@jupyter-widgets/base",
          "model_name": "LayoutModel",
          "model_module_version": "1.2.0",
          "state": {
            "_model_module": "@jupyter-widgets/base",
            "_model_module_version": "1.2.0",
            "_model_name": "LayoutModel",
            "_view_count": null,
            "_view_module": "@jupyter-widgets/base",
            "_view_module_version": "1.2.0",
            "_view_name": "LayoutView",
            "align_content": null,
            "align_items": null,
            "align_self": null,
            "border": null,
            "bottom": null,
            "display": null,
            "flex": null,
            "flex_flow": null,
            "grid_area": null,
            "grid_auto_columns": null,
            "grid_auto_flow": null,
            "grid_auto_rows": null,
            "grid_column": null,
            "grid_gap": null,
            "grid_row": null,
            "grid_template_areas": null,
            "grid_template_columns": null,
            "grid_template_rows": null,
            "height": null,
            "justify_content": null,
            "justify_items": null,
            "left": null,
            "margin": null,
            "max_height": null,
            "max_width": null,
            "min_height": null,
            "min_width": null,
            "object_fit": null,
            "object_position": null,
            "order": null,
            "overflow": null,
            "overflow_x": null,
            "overflow_y": null,
            "padding": null,
            "right": null,
            "top": null,
            "visibility": null,
            "width": null
          }
        },
        "9eef8bf8975841ff8c43f8ad27c4466d": {
          "model_module": "@jupyter-widgets/base",
          "model_name": "LayoutModel",
          "model_module_version": "1.2.0",
          "state": {
            "_model_module": "@jupyter-widgets/base",
            "_model_module_version": "1.2.0",
            "_model_name": "LayoutModel",
            "_view_count": null,
            "_view_module": "@jupyter-widgets/base",
            "_view_module_version": "1.2.0",
            "_view_name": "LayoutView",
            "align_content": null,
            "align_items": null,
            "align_self": null,
            "border": null,
            "bottom": null,
            "display": null,
            "flex": null,
            "flex_flow": null,
            "grid_area": null,
            "grid_auto_columns": null,
            "grid_auto_flow": null,
            "grid_auto_rows": null,
            "grid_column": null,
            "grid_gap": null,
            "grid_row": null,
            "grid_template_areas": null,
            "grid_template_columns": null,
            "grid_template_rows": null,
            "height": null,
            "justify_content": null,
            "justify_items": null,
            "left": null,
            "margin": null,
            "max_height": null,
            "max_width": null,
            "min_height": null,
            "min_width": null,
            "object_fit": null,
            "object_position": null,
            "order": null,
            "overflow": null,
            "overflow_x": null,
            "overflow_y": null,
            "padding": null,
            "right": null,
            "top": null,
            "visibility": null,
            "width": null
          }
        },
        "213a1ba66daa4ef5b7f1003c2e08de4b": {
          "model_module": "@jupyter-widgets/controls",
          "model_name": "DescriptionStyleModel",
          "model_module_version": "1.5.0",
          "state": {
            "_model_module": "@jupyter-widgets/controls",
            "_model_module_version": "1.5.0",
            "_model_name": "DescriptionStyleModel",
            "_view_count": null,
            "_view_module": "@jupyter-widgets/base",
            "_view_module_version": "1.2.0",
            "_view_name": "StyleView",
            "description_width": ""
          }
        },
        "b570e7fa7f134b15b8dfbf5919a73e2c": {
          "model_module": "@jupyter-widgets/base",
          "model_name": "LayoutModel",
          "model_module_version": "1.2.0",
          "state": {
            "_model_module": "@jupyter-widgets/base",
            "_model_module_version": "1.2.0",
            "_model_name": "LayoutModel",
            "_view_count": null,
            "_view_module": "@jupyter-widgets/base",
            "_view_module_version": "1.2.0",
            "_view_name": "LayoutView",
            "align_content": null,
            "align_items": null,
            "align_self": null,
            "border": null,
            "bottom": null,
            "display": null,
            "flex": null,
            "flex_flow": null,
            "grid_area": null,
            "grid_auto_columns": null,
            "grid_auto_flow": null,
            "grid_auto_rows": null,
            "grid_column": null,
            "grid_gap": null,
            "grid_row": null,
            "grid_template_areas": null,
            "grid_template_columns": null,
            "grid_template_rows": null,
            "height": null,
            "justify_content": null,
            "justify_items": null,
            "left": null,
            "margin": null,
            "max_height": null,
            "max_width": null,
            "min_height": null,
            "min_width": null,
            "object_fit": null,
            "object_position": null,
            "order": null,
            "overflow": null,
            "overflow_x": null,
            "overflow_y": null,
            "padding": null,
            "right": null,
            "top": null,
            "visibility": null,
            "width": null
          }
        },
        "d5b3564046b94bcd9bea51ea4b705630": {
          "model_module": "@jupyter-widgets/controls",
          "model_name": "ProgressStyleModel",
          "model_module_version": "1.5.0",
          "state": {
            "_model_module": "@jupyter-widgets/controls",
            "_model_module_version": "1.5.0",
            "_model_name": "ProgressStyleModel",
            "_view_count": null,
            "_view_module": "@jupyter-widgets/base",
            "_view_module_version": "1.2.0",
            "_view_name": "StyleView",
            "bar_color": null,
            "description_width": ""
          }
        },
        "a6257751441f472280a86a62bfc8b5e6": {
          "model_module": "@jupyter-widgets/base",
          "model_name": "LayoutModel",
          "model_module_version": "1.2.0",
          "state": {
            "_model_module": "@jupyter-widgets/base",
            "_model_module_version": "1.2.0",
            "_model_name": "LayoutModel",
            "_view_count": null,
            "_view_module": "@jupyter-widgets/base",
            "_view_module_version": "1.2.0",
            "_view_name": "LayoutView",
            "align_content": null,
            "align_items": null,
            "align_self": null,
            "border": null,
            "bottom": null,
            "display": null,
            "flex": null,
            "flex_flow": null,
            "grid_area": null,
            "grid_auto_columns": null,
            "grid_auto_flow": null,
            "grid_auto_rows": null,
            "grid_column": null,
            "grid_gap": null,
            "grid_row": null,
            "grid_template_areas": null,
            "grid_template_columns": null,
            "grid_template_rows": null,
            "height": null,
            "justify_content": null,
            "justify_items": null,
            "left": null,
            "margin": null,
            "max_height": null,
            "max_width": null,
            "min_height": null,
            "min_width": null,
            "object_fit": null,
            "object_position": null,
            "order": null,
            "overflow": null,
            "overflow_x": null,
            "overflow_y": null,
            "padding": null,
            "right": null,
            "top": null,
            "visibility": null,
            "width": null
          }
        },
        "1fa5bb7c33144befa53c7763efa36219": {
          "model_module": "@jupyter-widgets/controls",
          "model_name": "DescriptionStyleModel",
          "model_module_version": "1.5.0",
          "state": {
            "_model_module": "@jupyter-widgets/controls",
            "_model_module_version": "1.5.0",
            "_model_name": "DescriptionStyleModel",
            "_view_count": null,
            "_view_module": "@jupyter-widgets/base",
            "_view_module_version": "1.2.0",
            "_view_name": "StyleView",
            "description_width": ""
          }
        }
      }
    }
  },
  "nbformat": 4,
  "nbformat_minor": 5
}